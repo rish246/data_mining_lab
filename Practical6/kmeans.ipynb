{
 "metadata": {
  "language_info": {
   "codemirror_mode": {
    "name": "ipython",
    "version": 3
   },
   "file_extension": ".py",
   "mimetype": "text/x-python",
   "name": "python",
   "nbconvert_exporter": "python",
   "pygments_lexer": "ipython3",
   "version": "3.8.5-final"
  },
  "orig_nbformat": 2,
  "kernelspec": {
   "name": "python38564bit5f47e5b54e4247e2affe1ce946898e57",
   "display_name": "Python 3.8.5 64-bit",
   "language": "python"
  }
 },
 "nbformat": 4,
 "nbformat_minor": 2,
 "cells": [
  {
   "cell_type": "code",
   "execution_count": 120,
   "metadata": {},
   "outputs": [],
   "source": [
    "import pandas as pd\n",
    "import numpy as np\n",
    "import matplotlib.pyplot as plt"
   ]
  },
  {
   "cell_type": "code",
   "execution_count": 203,
   "metadata": {},
   "outputs": [],
   "source": [
    "iris_data_path = \"./iris.data\""
   ]
  },
  {
   "cell_type": "code",
   "execution_count": 204,
   "metadata": {},
   "outputs": [],
   "source": [
    "iris_dataset = pd.read_csv(iris_data_path, header=None)"
   ]
  },
  {
   "cell_type": "code",
   "execution_count": 143,
   "metadata": {},
   "outputs": [
    {
     "output_type": "execute_result",
     "data": {
      "text/plain": [
       "pandas.core.frame.DataFrame"
      ]
     },
     "metadata": {},
     "execution_count": 143
    }
   ],
   "source": [
    "type(iris_dataset)"
   ]
  },
  {
   "cell_type": "code",
   "execution_count": 205,
   "metadata": {},
   "outputs": [
    {
     "output_type": "execute_result",
     "data": {
      "text/plain": [
       "0         Iris-setosa\n",
       "1         Iris-setosa\n",
       "2         Iris-setosa\n",
       "3         Iris-setosa\n",
       "4         Iris-setosa\n",
       "            ...      \n",
       "145    Iris-virginica\n",
       "146    Iris-virginica\n",
       "147    Iris-virginica\n",
       "148    Iris-virginica\n",
       "149    Iris-virginica\n",
       "Name: 4, Length: 150, dtype: object"
      ]
     },
     "metadata": {},
     "execution_count": 205
    }
   ],
   "source": [
    "iris_dataset.pop(4)"
   ]
  },
  {
   "cell_type": "code",
   "execution_count": 206,
   "metadata": {},
   "outputs": [
    {
     "output_type": "execute_result",
     "data": {
      "text/plain": [
       "       0    1    2    3\n",
       "0    5.1  3.5  1.4  0.2\n",
       "1    4.9  3.0  1.4  0.2\n",
       "2    4.7  3.2  1.3  0.2\n",
       "3    4.6  3.1  1.5  0.2\n",
       "4    5.0  3.6  1.4  0.2\n",
       "..   ...  ...  ...  ...\n",
       "145  6.7  3.0  5.2  2.3\n",
       "146  6.3  2.5  5.0  1.9\n",
       "147  6.5  3.0  5.2  2.0\n",
       "148  6.2  3.4  5.4  2.3\n",
       "149  5.9  3.0  5.1  1.8\n",
       "\n",
       "[150 rows x 4 columns]"
      ],
      "text/html": "<div>\n<style scoped>\n    .dataframe tbody tr th:only-of-type {\n        vertical-align: middle;\n    }\n\n    .dataframe tbody tr th {\n        vertical-align: top;\n    }\n\n    .dataframe thead th {\n        text-align: right;\n    }\n</style>\n<table border=\"1\" class=\"dataframe\">\n  <thead>\n    <tr style=\"text-align: right;\">\n      <th></th>\n      <th>0</th>\n      <th>1</th>\n      <th>2</th>\n      <th>3</th>\n    </tr>\n  </thead>\n  <tbody>\n    <tr>\n      <th>0</th>\n      <td>5.1</td>\n      <td>3.5</td>\n      <td>1.4</td>\n      <td>0.2</td>\n    </tr>\n    <tr>\n      <th>1</th>\n      <td>4.9</td>\n      <td>3.0</td>\n      <td>1.4</td>\n      <td>0.2</td>\n    </tr>\n    <tr>\n      <th>2</th>\n      <td>4.7</td>\n      <td>3.2</td>\n      <td>1.3</td>\n      <td>0.2</td>\n    </tr>\n    <tr>\n      <th>3</th>\n      <td>4.6</td>\n      <td>3.1</td>\n      <td>1.5</td>\n      <td>0.2</td>\n    </tr>\n    <tr>\n      <th>4</th>\n      <td>5.0</td>\n      <td>3.6</td>\n      <td>1.4</td>\n      <td>0.2</td>\n    </tr>\n    <tr>\n      <th>...</th>\n      <td>...</td>\n      <td>...</td>\n      <td>...</td>\n      <td>...</td>\n    </tr>\n    <tr>\n      <th>145</th>\n      <td>6.7</td>\n      <td>3.0</td>\n      <td>5.2</td>\n      <td>2.3</td>\n    </tr>\n    <tr>\n      <th>146</th>\n      <td>6.3</td>\n      <td>2.5</td>\n      <td>5.0</td>\n      <td>1.9</td>\n    </tr>\n    <tr>\n      <th>147</th>\n      <td>6.5</td>\n      <td>3.0</td>\n      <td>5.2</td>\n      <td>2.0</td>\n    </tr>\n    <tr>\n      <th>148</th>\n      <td>6.2</td>\n      <td>3.4</td>\n      <td>5.4</td>\n      <td>2.3</td>\n    </tr>\n    <tr>\n      <th>149</th>\n      <td>5.9</td>\n      <td>3.0</td>\n      <td>5.1</td>\n      <td>1.8</td>\n    </tr>\n  </tbody>\n</table>\n<p>150 rows × 4 columns</p>\n</div>"
     },
     "metadata": {},
     "execution_count": 206
    }
   ],
   "source": [
    "iris_dataset"
   ]
  },
  {
   "cell_type": "code",
   "execution_count": 15,
   "metadata": {},
   "outputs": [],
   "source": [
    "####### lets start the kMeans"
   ]
  },
  {
   "cell_type": "code",
   "execution_count": null,
   "metadata": {},
   "outputs": [],
   "source": []
  },
  {
   "cell_type": "code",
   "execution_count": null,
   "metadata": {},
   "outputs": [],
   "source": []
  },
  {
   "cell_type": "code",
   "execution_count": null,
   "metadata": {},
   "outputs": [],
   "source": []
  },
  {
   "cell_type": "code",
   "execution_count": null,
   "metadata": {},
   "outputs": [],
   "source": []
  },
  {
   "cell_type": "code",
   "execution_count": 214,
   "metadata": {},
   "outputs": [],
   "source": [
    "iris_dataset = iris_dataset.sample(frac=1).reset_index(drop=True)\n"
   ]
  },
  {
   "cell_type": "code",
   "execution_count": 147,
   "metadata": {},
   "outputs": [
    {
     "output_type": "execute_result",
     "data": {
      "text/plain": [
       "     0    1    2    3\n",
       "1  5.8  2.7  5.1  1.9\n",
       "2  6.1  2.8  4.7  1.2"
      ],
      "text/html": "<div>\n<style scoped>\n    .dataframe tbody tr th:only-of-type {\n        vertical-align: middle;\n    }\n\n    .dataframe tbody tr th {\n        vertical-align: top;\n    }\n\n    .dataframe thead th {\n        text-align: right;\n    }\n</style>\n<table border=\"1\" class=\"dataframe\">\n  <thead>\n    <tr style=\"text-align: right;\">\n      <th></th>\n      <th>0</th>\n      <th>1</th>\n      <th>2</th>\n      <th>3</th>\n    </tr>\n  </thead>\n  <tbody>\n    <tr>\n      <th>1</th>\n      <td>5.8</td>\n      <td>2.7</td>\n      <td>5.1</td>\n      <td>1.9</td>\n    </tr>\n    <tr>\n      <th>2</th>\n      <td>6.1</td>\n      <td>2.8</td>\n      <td>4.7</td>\n      <td>1.2</td>\n    </tr>\n  </tbody>\n</table>\n</div>"
     },
     "metadata": {},
     "execution_count": 147
    }
   ],
   "source": [
    "iris_dataset.loc[[1,2]]"
   ]
  },
  {
   "cell_type": "code",
   "execution_count": 148,
   "metadata": {},
   "outputs": [],
   "source": [
    "K = 3"
   ]
  },
  {
   "cell_type": "code",
   "execution_count": 215,
   "metadata": {},
   "outputs": [],
   "source": [
    "centroids = [iris_dataset.loc[i] for i in range(K)]"
   ]
  },
  {
   "cell_type": "code",
   "execution_count": 209,
   "metadata": {},
   "outputs": [
    {
     "output_type": "execute_result",
     "data": {
      "text/plain": [
       "[0    7.7\n",
       " 1    2.8\n",
       " 2    6.7\n",
       " 3    2.0\n",
       " Name: 0, dtype: float64,\n",
       " 0    6.0\n",
       " 1    3.0\n",
       " 2    4.8\n",
       " 3    1.8\n",
       " Name: 1, dtype: float64,\n",
       " 0    4.5\n",
       " 1    2.3\n",
       " 2    1.3\n",
       " 3    0.3\n",
       " Name: 2, dtype: float64]"
      ]
     },
     "metadata": {},
     "execution_count": 209
    }
   ],
   "source": [
    "centroids\n"
   ]
  },
  {
   "cell_type": "code",
   "execution_count": 216,
   "metadata": {},
   "outputs": [],
   "source": [
    "max_iterations = 1000\n",
    "tol = 0.0001\n",
    "clusters = [[] for _ in range(K)]"
   ]
  },
  {
   "cell_type": "code",
   "execution_count": 217,
   "metadata": {},
   "outputs": [
    {
     "output_type": "stream",
     "name": "stdout",
     "text": [
      "174.45514255859092\n",
      "53.916312353234176\n",
      "0.8805942219598109\n",
      "66.49481381758099\n",
      "-2.4240947924792193\n",
      "2.4547629280527814\n",
      "69.99087194045222\n",
      "-2.2079404555366478\n",
      "2.976592236771783\n",
      "52.79408872672558\n",
      "-0.6264727097919403\n",
      "8.689939050365975\n",
      "19.820951245720156\n",
      "0.0\n",
      "9.658898716415077\n",
      "6.992042820058505\n",
      "0.0\n",
      "4.970496766735539\n",
      "5.079414856579923\n",
      "0.0\n",
      "3.005369492926061\n",
      "4.425999239999902\n",
      "0.0\n",
      "1.8048019872139496\n",
      "6.053330959048623\n",
      "0.0\n",
      "3.5491575368446577\n",
      "2.9375146612004865\n",
      "0.0\n",
      "2.455930521904423\n",
      "4.0371097487918455\n",
      "0.0\n",
      "3.3330518242140164\n",
      "2.6892181761517846\n",
      "0.0\n",
      "2.6662643053779185\n",
      "1.8394282892145153\n",
      "0.0\n",
      "3.71313062253654\n",
      "1.417789495907475\n",
      "0.0\n",
      "0.46171538825085173\n",
      "0.0\n",
      "0.0\n",
      "0.0\n",
      "14 iterations to find the optimal solutions\n"
     ]
    }
   ],
   "source": [
    "for i_iter in range(max_iterations):\n",
    "\n",
    "\n",
    "    clusters = [[] for _ in range(K)]\n",
    "\n",
    "\n",
    "    for i in range(iris_dataset.shape[0]):\n",
    "        \n",
    "        # find dists from all the centroids\n",
    "        dists_from_centroid = [np.linalg.norm(iris_dataset.loc[i] - centroids[j]) for j in range(0, K)]\n",
    "\n",
    "        # get the min dist from centroid\n",
    "        min_dist_idx = dists_from_centroid.index(min(dists_from_centroid))\n",
    "\n",
    "        clusters[min_dist_idx].append(iris_dataset.loc[i])\n",
    "\n",
    "    prev_centroids = centroids\n",
    "\n",
    "    centroids = [np.average(cluster, axis=0) for cluster in clusters]\n",
    "\n",
    "    # if optimized, then break else go for another round\n",
    "    is_optimized = True\n",
    "\n",
    "    for i in range(K):\n",
    "        original_centroid = prev_centroids[i]\n",
    "        curr_centroid = centroids[i]\n",
    "\n",
    "        diff = np.sum((curr_centroid - original_centroid) / original_centroid * 100.0)\n",
    "        print(diff)\n",
    "        if diff > tol:\n",
    "            is_optimized = False\n",
    "\n",
    "    if is_optimized:\n",
    "        print(f'{i_iter} iterations to find the optimal solutions')\n",
    "        break\n",
    "\n",
    "\n"
   ]
  },
  {
   "cell_type": "code",
   "execution_count": 129,
   "metadata": {},
   "outputs": [],
   "source": [
    "# store the prev centroids and make the average of each cluster as the new centroid"
   ]
  },
  {
   "cell_type": "code",
   "execution_count": 218,
   "metadata": {},
   "outputs": [
    {
     "output_type": "stream",
     "name": "stdout",
     "text": [
      "[array([5.88360656, 2.74098361, 4.38852459, 1.43442623]), array([5.006, 3.418, 1.464, 0.244]), array([6.85384615, 3.07692308, 5.71538462, 2.05384615])]\n"
     ]
    }
   ],
   "source": [
    "# average corresponding values\n",
    "\n",
    "\n",
    "print(centroids)"
   ]
  },
  {
   "cell_type": "code",
   "execution_count": 168,
   "metadata": {},
   "outputs": [],
   "source": [
    "\n",
    "\n",
    "# new centroid ... check if optimization is complete\n",
    "# if yes, then stop the process\n",
    "# else continue "
   ]
  },
  {
   "cell_type": "code",
   "execution_count": 219,
   "metadata": {},
   "outputs": [
    {
     "output_type": "display_data",
     "data": {
      "text/plain": "<Figure size 432x288 with 1 Axes>",
      "image/svg+xml": "<?xml version=\"1.0\" encoding=\"utf-8\" standalone=\"no\"?>\n<!DOCTYPE svg PUBLIC \"-//W3C//DTD SVG 1.1//EN\"\n  \"http://www.w3.org/Graphics/SVG/1.1/DTD/svg11.dtd\">\n<!-- Created with matplotlib (https://matplotlib.org/) -->\n<svg height=\"248.518125pt\" version=\"1.1\" viewBox=\"0 0 372.103125 248.518125\" width=\"372.103125pt\" xmlns=\"http://www.w3.org/2000/svg\" xmlns:xlink=\"http://www.w3.org/1999/xlink\">\n <metadata>\n  <rdf:RDF xmlns:cc=\"http://creativecommons.org/ns#\" xmlns:dc=\"http://purl.org/dc/elements/1.1/\" xmlns:rdf=\"http://www.w3.org/1999/02/22-rdf-syntax-ns#\">\n   <cc:Work>\n    <dc:type rdf:resource=\"http://purl.org/dc/dcmitype/StillImage\"/>\n    <dc:date>2021-04-02T12:59:42.040387</dc:date>\n    <dc:format>image/svg+xml</dc:format>\n    <dc:creator>\n     <cc:Agent>\n      <dc:title>Matplotlib v3.3.2, https://matplotlib.org/</dc:title>\n     </cc:Agent>\n    </dc:creator>\n   </cc:Work>\n  </rdf:RDF>\n </metadata>\n <defs>\n  <style type=\"text/css\">*{stroke-linecap:butt;stroke-linejoin:round;}</style>\n </defs>\n <g id=\"figure_1\">\n  <g id=\"patch_1\">\n   <path d=\"M 0 248.518125 \nL 372.103125 248.518125 \nL 372.103125 0 \nL 0 0 \nz\n\" style=\"fill:none;\"/>\n  </g>\n  <g id=\"axes_1\">\n   <g id=\"patch_2\">\n    <path d=\"M 30.103125 224.64 \nL 364.903125 224.64 \nL 364.903125 7.2 \nL 30.103125 7.2 \nz\n\" style=\"fill:#ffffff;\"/>\n   </g>\n   <g id=\"PathCollection_1\">\n    <defs>\n     <path d=\"M 0 3 \nC 0.795609 3 1.55874 2.683901 2.12132 2.12132 \nC 2.683901 1.55874 3 0.795609 3 0 \nC 3 -0.795609 2.683901 -1.55874 2.12132 -2.12132 \nC 1.55874 -2.683901 0.795609 -3 0 -3 \nC -0.795609 -3 -1.55874 -2.683901 -2.12132 -2.12132 \nC -2.683901 -1.55874 -3 -0.795609 -3 0 \nC -3 0.795609 -2.683901 1.55874 -2.12132 2.12132 \nC -1.55874 2.683901 -0.795609 3 0 3 \nz\n\" id=\"m02665d587f\" style=\"stroke:#000000;\"/>\n    </defs>\n    <g clip-path=\"url(#pf094edfac5)\">\n     <use style=\"stroke:#000000;\" x=\"220.125318\" xlink:href=\"#m02665d587f\" y=\"104.848167\"/>\n    </g>\n   </g>\n   <g id=\"PathCollection_2\">\n    <g clip-path=\"url(#pf094edfac5)\">\n     <use style=\"stroke:#000000;\" x=\"69.257701\" xlink:href=\"#m02665d587f\" y=\"202.896\"/>\n    </g>\n   </g>\n   <g id=\"PathCollection_3\">\n    <g clip-path=\"url(#pf094edfac5)\">\n     <use style=\"stroke:#000000;\" x=\"288.574122\" xlink:href=\"#m02665d587f\" y=\"53.83049\"/>\n    </g>\n   </g>\n   <g id=\"PathCollection_4\">\n    <defs>\n     <path d=\"M -3 3 \nL 3 -3 \nM -3 -3 \nL 3 3 \n\" id=\"mfab63f24b7\" style=\"stroke:#ff0000;stroke-width:1.5;\"/>\n    </defs>\n    <g clip-path=\"url(#pf094edfac5)\">\n     <use style=\"fill:#ff0000;stroke:#ff0000;stroke-width:1.5;\" x=\"256.828241\" xlink:href=\"#mfab63f24b7\" y=\"66.501818\"/>\n    </g>\n   </g>\n   <g id=\"PathCollection_5\">\n    <g clip-path=\"url(#pf094edfac5)\">\n     <use style=\"fill:#ff0000;stroke:#ff0000;stroke-width:1.5;\" x=\"225.876006\" xlink:href=\"#mfab63f24b7\" y=\"91.210909\"/>\n    </g>\n   </g>\n   <g id=\"PathCollection_6\">\n    <g clip-path=\"url(#pf094edfac5)\">\n     <use style=\"fill:#ff0000;stroke:#ff0000;stroke-width:1.5;\" x=\"256.828241\" xlink:href=\"#mfab63f24b7\" y=\"74.738182\"/>\n    </g>\n   </g>\n   <g id=\"PathCollection_7\">\n    <g clip-path=\"url(#pf094edfac5)\">\n     <use style=\"fill:#ff0000;stroke:#ff0000;stroke-width:1.5;\" x=\"225.876006\" xlink:href=\"#mfab63f24b7\" y=\"99.447273\"/>\n    </g>\n   </g>\n   <g id=\"PathCollection_8\">\n    <g clip-path=\"url(#pf094edfac5)\">\n     <use style=\"fill:#ff0000;stroke:#ff0000;stroke-width:1.5;\" x=\"256.828241\" xlink:href=\"#mfab63f24b7\" y=\"25.32\"/>\n    </g>\n   </g>\n   <g id=\"PathCollection_9\">\n    <g clip-path=\"url(#pf094edfac5)\">\n     <use style=\"fill:#ff0000;stroke:#ff0000;stroke-width:1.5;\" x=\"236.193418\" xlink:href=\"#mfab63f24b7\" y=\"124.156364\"/>\n    </g>\n   </g>\n   <g id=\"PathCollection_10\">\n    <g clip-path=\"url(#pf094edfac5)\">\n     <use style=\"fill:#ff0000;stroke:#ff0000;stroke-width:1.5;\" x=\"194.923772\" xlink:href=\"#mfab63f24b7\" y=\"132.392727\"/>\n    </g>\n   </g>\n   <g id=\"PathCollection_11\">\n    <g clip-path=\"url(#pf094edfac5)\">\n     <use style=\"fill:#ff0000;stroke:#ff0000;stroke-width:1.5;\" x=\"200.082478\" xlink:href=\"#mfab63f24b7\" y=\"140.629091\"/>\n    </g>\n   </g>\n   <g id=\"PathCollection_12\">\n    <g clip-path=\"url(#pf094edfac5)\">\n     <use style=\"fill:#ff0000;stroke:#ff0000;stroke-width:1.5;\" x=\"220.717301\" xlink:href=\"#mfab63f24b7\" y=\"107.683636\"/>\n    </g>\n   </g>\n   <g id=\"PathCollection_13\">\n    <g clip-path=\"url(#pf094edfac5)\">\n     <use style=\"fill:#ff0000;stroke:#ff0000;stroke-width:1.5;\" x=\"200.082478\" xlink:href=\"#mfab63f24b7\" y=\"115.92\"/>\n    </g>\n   </g>\n   <g id=\"PathCollection_14\">\n    <g clip-path=\"url(#pf094edfac5)\">\n     <use style=\"fill:#ff0000;stroke:#ff0000;stroke-width:1.5;\" x=\"200.082478\" xlink:href=\"#mfab63f24b7\" y=\"115.92\"/>\n    </g>\n   </g>\n   <g id=\"PathCollection_15\">\n    <g clip-path=\"url(#pf094edfac5)\">\n     <use style=\"fill:#ff0000;stroke:#ff0000;stroke-width:1.5;\" x=\"189.765066\" xlink:href=\"#mfab63f24b7\" y=\"132.392727\"/>\n    </g>\n   </g>\n   <g id=\"PathCollection_16\">\n    <g clip-path=\"url(#pf094edfac5)\">\n     <use style=\"fill:#ff0000;stroke:#ff0000;stroke-width:1.5;\" x=\"174.288949\" xlink:href=\"#mfab63f24b7\" y=\"140.629091\"/>\n    </g>\n   </g>\n   <g id=\"PathCollection_17\">\n    <g clip-path=\"url(#pf094edfac5)\">\n     <use style=\"fill:#ff0000;stroke:#ff0000;stroke-width:1.5;\" x=\"246.510829\" xlink:href=\"#mfab63f24b7\" y=\"74.738182\"/>\n    </g>\n   </g>\n   <g id=\"PathCollection_18\">\n    <g clip-path=\"url(#pf094edfac5)\">\n     <use style=\"fill:#ff0000;stroke:#ff0000;stroke-width:1.5;\" x=\"215.558595\" xlink:href=\"#mfab63f24b7\" y=\"115.92\"/>\n    </g>\n   </g>\n   <g id=\"PathCollection_19\">\n    <g clip-path=\"url(#pf094edfac5)\">\n     <use style=\"fill:#ff0000;stroke:#ff0000;stroke-width:1.5;\" x=\"200.082478\" xlink:href=\"#mfab63f24b7\" y=\"115.92\"/>\n    </g>\n   </g>\n   <g id=\"PathCollection_20\">\n    <g clip-path=\"url(#pf094edfac5)\">\n     <use style=\"fill:#ff0000;stroke:#ff0000;stroke-width:1.5;\" x=\"220.717301\" xlink:href=\"#mfab63f24b7\" y=\"124.156364\"/>\n    </g>\n   </g>\n   <g id=\"PathCollection_21\">\n    <g clip-path=\"url(#pf094edfac5)\">\n     <use style=\"fill:#ff0000;stroke:#ff0000;stroke-width:1.5;\" x=\"220.717301\" xlink:href=\"#mfab63f24b7\" y=\"115.92\"/>\n    </g>\n   </g>\n   <g id=\"PathCollection_22\">\n    <g clip-path=\"url(#pf094edfac5)\">\n     <use style=\"fill:#ff0000;stroke:#ff0000;stroke-width:1.5;\" x=\"179.447655\" xlink:href=\"#mfab63f24b7\" y=\"115.92\"/>\n    </g>\n   </g>\n   <g id=\"PathCollection_23\">\n    <g clip-path=\"url(#pf094edfac5)\">\n     <use style=\"fill:#ff0000;stroke:#ff0000;stroke-width:1.5;\" x=\"231.034712\" xlink:href=\"#mfab63f24b7\" y=\"99.447273\"/>\n    </g>\n   </g>\n   <g id=\"PathCollection_24\">\n    <g clip-path=\"url(#pf094edfac5)\">\n     <use style=\"fill:#ff0000;stroke:#ff0000;stroke-width:1.5;\" x=\"231.034712\" xlink:href=\"#mfab63f24b7\" y=\"115.92\"/>\n    </g>\n   </g>\n   <g id=\"PathCollection_25\">\n    <g clip-path=\"url(#pf094edfac5)\">\n     <use style=\"fill:#ff0000;stroke:#ff0000;stroke-width:1.5;\" x=\"194.923772\" xlink:href=\"#mfab63f24b7\" y=\"124.156364\"/>\n    </g>\n   </g>\n   <g id=\"PathCollection_26\">\n    <g clip-path=\"url(#pf094edfac5)\">\n     <use style=\"fill:#ff0000;stroke:#ff0000;stroke-width:1.5;\" x=\"174.288949\" xlink:href=\"#mfab63f24b7\" y=\"140.629091\"/>\n    </g>\n   </g>\n   <g id=\"PathCollection_27\">\n    <g clip-path=\"url(#pf094edfac5)\">\n     <use style=\"fill:#ff0000;stroke:#ff0000;stroke-width:1.5;\" x=\"246.510829\" xlink:href=\"#mfab63f24b7\" y=\"99.447273\"/>\n    </g>\n   </g>\n   <g id=\"PathCollection_28\">\n    <g clip-path=\"url(#pf094edfac5)\">\n     <use style=\"fill:#ff0000;stroke:#ff0000;stroke-width:1.5;\" x=\"225.876006\" xlink:href=\"#mfab63f24b7\" y=\"99.447273\"/>\n    </g>\n   </g>\n   <g id=\"PathCollection_29\">\n    <g clip-path=\"url(#pf094edfac5)\">\n     <use style=\"fill:#ff0000;stroke:#ff0000;stroke-width:1.5;\" x=\"251.669535\" xlink:href=\"#mfab63f24b7\" y=\"58.265455\"/>\n    </g>\n   </g>\n   <g id=\"PathCollection_30\">\n    <g clip-path=\"url(#pf094edfac5)\">\n     <use style=\"fill:#ff0000;stroke:#ff0000;stroke-width:1.5;\" x=\"205.241184\" xlink:href=\"#mfab63f24b7\" y=\"115.92\"/>\n    </g>\n   </g>\n   <g id=\"PathCollection_31\">\n    <g clip-path=\"url(#pf094edfac5)\">\n     <use style=\"fill:#ff0000;stroke:#ff0000;stroke-width:1.5;\" x=\"225.876006\" xlink:href=\"#mfab63f24b7\" y=\"99.447273\"/>\n    </g>\n   </g>\n   <g id=\"PathCollection_32\">\n    <g clip-path=\"url(#pf094edfac5)\">\n     <use style=\"fill:#ff0000;stroke:#ff0000;stroke-width:1.5;\" x=\"163.971538\" xlink:href=\"#mfab63f24b7\" y=\"140.629091\"/>\n    </g>\n   </g>\n   <g id=\"PathCollection_33\">\n    <g clip-path=\"url(#pf094edfac5)\">\n     <use style=\"fill:#ff0000;stroke:#ff0000;stroke-width:1.5;\" x=\"184.606361\" xlink:href=\"#mfab63f24b7\" y=\"140.629091\"/>\n    </g>\n   </g>\n   <g id=\"PathCollection_34\">\n    <g clip-path=\"url(#pf094edfac5)\">\n     <use style=\"fill:#ff0000;stroke:#ff0000;stroke-width:1.5;\" x=\"210.399889\" xlink:href=\"#mfab63f24b7\" y=\"115.92\"/>\n    </g>\n   </g>\n   <g id=\"PathCollection_35\">\n    <g clip-path=\"url(#pf094edfac5)\">\n     <use style=\"fill:#ff0000;stroke:#ff0000;stroke-width:1.5;\" x=\"241.352123\" xlink:href=\"#mfab63f24b7\" y=\"74.738182\"/>\n    </g>\n   </g>\n   <g id=\"PathCollection_36\">\n    <g clip-path=\"url(#pf094edfac5)\">\n     <use style=\"fill:#ff0000;stroke:#ff0000;stroke-width:1.5;\" x=\"215.558595\" xlink:href=\"#mfab63f24b7\" y=\"115.92\"/>\n    </g>\n   </g>\n   <g id=\"PathCollection_37\">\n    <g clip-path=\"url(#pf094edfac5)\">\n     <use style=\"fill:#ff0000;stroke:#ff0000;stroke-width:1.5;\" x=\"256.828241\" xlink:href=\"#mfab63f24b7\" y=\"66.501818\"/>\n    </g>\n   </g>\n   <g id=\"PathCollection_38\">\n    <g clip-path=\"url(#pf094edfac5)\">\n     <use style=\"fill:#ff0000;stroke:#ff0000;stroke-width:1.5;\" x=\"220.717301\" xlink:href=\"#mfab63f24b7\" y=\"107.683636\"/>\n    </g>\n   </g>\n   <g id=\"PathCollection_39\">\n    <g clip-path=\"url(#pf094edfac5)\">\n     <use style=\"fill:#ff0000;stroke:#ff0000;stroke-width:1.5;\" x=\"163.971538\" xlink:href=\"#mfab63f24b7\" y=\"140.629091\"/>\n    </g>\n   </g>\n   <g id=\"PathCollection_40\">\n    <g clip-path=\"url(#pf094edfac5)\">\n     <use style=\"fill:#ff0000;stroke:#ff0000;stroke-width:1.5;\" x=\"231.034712\" xlink:href=\"#mfab63f24b7\" y=\"107.683636\"/>\n    </g>\n   </g>\n   <g id=\"PathCollection_41\">\n    <g clip-path=\"url(#pf094edfac5)\">\n     <use style=\"fill:#ff0000;stroke:#ff0000;stroke-width:1.5;\" x=\"205.241184\" xlink:href=\"#mfab63f24b7\" y=\"115.92\"/>\n    </g>\n   </g>\n   <g id=\"PathCollection_42\">\n    <g clip-path=\"url(#pf094edfac5)\">\n     <use style=\"fill:#ff0000;stroke:#ff0000;stroke-width:1.5;\" x=\"241.352123\" xlink:href=\"#mfab63f24b7\" y=\"107.683636\"/>\n    </g>\n   </g>\n   <g id=\"PathCollection_43\">\n    <g clip-path=\"url(#pf094edfac5)\">\n     <use style=\"fill:#ff0000;stroke:#ff0000;stroke-width:1.5;\" x=\"236.193418\" xlink:href=\"#mfab63f24b7\" y=\"99.447273\"/>\n    </g>\n   </g>\n   <g id=\"PathCollection_44\">\n    <g clip-path=\"url(#pf094edfac5)\">\n     <use style=\"fill:#ff0000;stroke:#ff0000;stroke-width:1.5;\" x=\"148.495421\" xlink:href=\"#mfab63f24b7\" y=\"132.392727\"/>\n    </g>\n   </g>\n   <g id=\"PathCollection_45\">\n    <g clip-path=\"url(#pf094edfac5)\">\n     <use style=\"fill:#ff0000;stroke:#ff0000;stroke-width:1.5;\" x=\"236.193418\" xlink:href=\"#mfab63f24b7\" y=\"91.210909\"/>\n    </g>\n   </g>\n   <g id=\"PathCollection_46\">\n    <g clip-path=\"url(#pf094edfac5)\">\n     <use style=\"fill:#ff0000;stroke:#ff0000;stroke-width:1.5;\" x=\"205.241184\" xlink:href=\"#mfab63f24b7\" y=\"140.629091\"/>\n    </g>\n   </g>\n   <g id=\"PathCollection_47\">\n    <g clip-path=\"url(#pf094edfac5)\">\n     <use style=\"fill:#ff0000;stroke:#ff0000;stroke-width:1.5;\" x=\"210.399889\" xlink:href=\"#mfab63f24b7\" y=\"115.92\"/>\n    </g>\n   </g>\n   <g id=\"PathCollection_48\">\n    <g clip-path=\"url(#pf094edfac5)\">\n     <use style=\"fill:#ff0000;stroke:#ff0000;stroke-width:1.5;\" x=\"241.352123\" xlink:href=\"#mfab63f24b7\" y=\"74.738182\"/>\n    </g>\n   </g>\n   <g id=\"PathCollection_49\">\n    <g clip-path=\"url(#pf094edfac5)\">\n     <use style=\"fill:#ff0000;stroke:#ff0000;stroke-width:1.5;\" x=\"225.876006\" xlink:href=\"#mfab63f24b7\" y=\"99.447273\"/>\n    </g>\n   </g>\n   <g id=\"PathCollection_50\">\n    <g clip-path=\"url(#pf094edfac5)\">\n     <use style=\"fill:#ff0000;stroke:#ff0000;stroke-width:1.5;\" x=\"251.669535\" xlink:href=\"#mfab63f24b7\" y=\"99.447273\"/>\n    </g>\n   </g>\n   <g id=\"PathCollection_51\">\n    <g clip-path=\"url(#pf094edfac5)\">\n     <use style=\"fill:#ff0000;stroke:#ff0000;stroke-width:1.5;\" x=\"225.876006\" xlink:href=\"#mfab63f24b7\" y=\"115.92\"/>\n    </g>\n   </g>\n   <g id=\"PathCollection_52\">\n    <g clip-path=\"url(#pf094edfac5)\">\n     <use style=\"fill:#ff0000;stroke:#ff0000;stroke-width:1.5;\" x=\"225.876006\" xlink:href=\"#mfab63f24b7\" y=\"82.974545\"/>\n    </g>\n   </g>\n   <g id=\"PathCollection_53\">\n    <g clip-path=\"url(#pf094edfac5)\">\n     <use style=\"fill:#ff0000;stroke:#ff0000;stroke-width:1.5;\" x=\"210.399889\" xlink:href=\"#mfab63f24b7\" y=\"99.447273\"/>\n    </g>\n   </g>\n   <g id=\"PathCollection_54\">\n    <g clip-path=\"url(#pf094edfac5)\">\n     <use style=\"fill:#ff0000;stroke:#ff0000;stroke-width:1.5;\" x=\"256.828241\" xlink:href=\"#mfab63f24b7\" y=\"99.447273\"/>\n    </g>\n   </g>\n   <g id=\"PathCollection_55\">\n    <g clip-path=\"url(#pf094edfac5)\">\n     <use style=\"fill:#ff0000;stroke:#ff0000;stroke-width:1.5;\" x=\"251.669535\" xlink:href=\"#mfab63f24b7\" y=\"66.501818\"/>\n    </g>\n   </g>\n   <g id=\"PathCollection_56\">\n    <g clip-path=\"url(#pf094edfac5)\">\n     <use style=\"fill:#ff0000;stroke:#ff0000;stroke-width:1.5;\" x=\"194.923772\" xlink:href=\"#mfab63f24b7\" y=\"107.683636\"/>\n    </g>\n   </g>\n   <g id=\"PathCollection_57\">\n    <g clip-path=\"url(#pf094edfac5)\">\n     <use style=\"fill:#ff0000;stroke:#ff0000;stroke-width:1.5;\" x=\"200.082478\" xlink:href=\"#mfab63f24b7\" y=\"124.156364\"/>\n    </g>\n   </g>\n   <g id=\"PathCollection_58\">\n    <g clip-path=\"url(#pf094edfac5)\">\n     <use style=\"fill:#ff0000;stroke:#ff0000;stroke-width:1.5;\" x=\"256.828241\" xlink:href=\"#mfab63f24b7\" y=\"91.210909\"/>\n    </g>\n   </g>\n   <g id=\"PathCollection_59\">\n    <g clip-path=\"url(#pf094edfac5)\">\n     <use style=\"fill:#ff0000;stroke:#ff0000;stroke-width:1.5;\" x=\"225.876006\" xlink:href=\"#mfab63f24b7\" y=\"99.447273\"/>\n    </g>\n   </g>\n   <g id=\"PathCollection_60\">\n    <g clip-path=\"url(#pf094edfac5)\">\n     <use style=\"fill:#ff0000;stroke:#ff0000;stroke-width:1.5;\" x=\"246.510829\" xlink:href=\"#mfab63f24b7\" y=\"58.265455\"/>\n    </g>\n   </g>\n   <g id=\"PathCollection_61\">\n    <g clip-path=\"url(#pf094edfac5)\">\n     <use style=\"fill:#ff0000;stroke:#ff0000;stroke-width:1.5;\" x=\"246.510829\" xlink:href=\"#mfab63f24b7\" y=\"74.738182\"/>\n    </g>\n   </g>\n   <g id=\"PathCollection_62\">\n    <g clip-path=\"url(#pf094edfac5)\">\n     <use style=\"fill:#ff0000;stroke:#ff0000;stroke-width:1.5;\" x=\"236.193418\" xlink:href=\"#mfab63f24b7\" y=\"107.683636\"/>\n    </g>\n   </g>\n   <g id=\"PathCollection_63\">\n    <g clip-path=\"url(#pf094edfac5)\">\n     <use style=\"fill:#ff0000;stroke:#ff0000;stroke-width:1.5;\" x=\"241.352123\" xlink:href=\"#mfab63f24b7\" y=\"74.738182\"/>\n    </g>\n   </g>\n   <g id=\"PathCollection_64\">\n    <g clip-path=\"url(#pf094edfac5)\">\n     <use style=\"fill:#ff0000;stroke:#ff0000;stroke-width:1.5;\" x=\"210.399889\" xlink:href=\"#mfab63f24b7\" y=\"124.156364\"/>\n    </g>\n   </g>\n   <g id=\"PathCollection_65\">\n    <defs>\n     <path d=\"M -3 3 \nL 3 -3 \nM -3 -3 \nL 3 3 \n\" id=\"m4d76bb911e\" style=\"stroke:#008000;stroke-width:1.5;\"/>\n    </defs>\n    <g clip-path=\"url(#pf094edfac5)\">\n     <use style=\"fill:#008000;stroke:#008000;stroke-width:1.5;\" x=\"65.95613\" xlink:href=\"#m4d76bb911e\" y=\"206.52\"/>\n    </g>\n   </g>\n   <g id=\"PathCollection_66\">\n    <g clip-path=\"url(#pf094edfac5)\">\n     <use style=\"fill:#008000;stroke:#008000;stroke-width:1.5;\" x=\"60.797424\" xlink:href=\"#m4d76bb911e\" y=\"206.52\"/>\n    </g>\n   </g>\n   <g id=\"PathCollection_67\">\n    <g clip-path=\"url(#pf094edfac5)\">\n     <use style=\"fill:#008000;stroke:#008000;stroke-width:1.5;\" x=\"65.95613\" xlink:href=\"#m4d76bb911e\" y=\"206.52\"/>\n    </g>\n   </g>\n   <g id=\"PathCollection_68\">\n    <g clip-path=\"url(#pf094edfac5)\">\n     <use style=\"fill:#008000;stroke:#008000;stroke-width:1.5;\" x=\"71.114835\" xlink:href=\"#m4d76bb911e\" y=\"214.756364\"/>\n    </g>\n   </g>\n   <g id=\"PathCollection_69\">\n    <g clip-path=\"url(#pf094edfac5)\">\n     <use style=\"fill:#008000;stroke:#008000;stroke-width:1.5;\" x=\"76.273541\" xlink:href=\"#m4d76bb911e\" y=\"190.047273\"/>\n    </g>\n   </g>\n   <g id=\"PathCollection_70\">\n    <g clip-path=\"url(#pf094edfac5)\">\n     <use style=\"fill:#008000;stroke:#008000;stroke-width:1.5;\" x=\"60.797424\" xlink:href=\"#m4d76bb911e\" y=\"198.283636\"/>\n    </g>\n   </g>\n   <g id=\"PathCollection_71\">\n    <g clip-path=\"url(#pf094edfac5)\">\n     <use style=\"fill:#008000;stroke:#008000;stroke-width:1.5;\" x=\"55.638718\" xlink:href=\"#m4d76bb911e\" y=\"206.52\"/>\n    </g>\n   </g>\n   <g id=\"PathCollection_72\">\n    <g clip-path=\"url(#pf094edfac5)\">\n     <use style=\"fill:#008000;stroke:#008000;stroke-width:1.5;\" x=\"76.273541\" xlink:href=\"#m4d76bb911e\" y=\"206.52\"/>\n    </g>\n   </g>\n   <g id=\"PathCollection_73\">\n    <g clip-path=\"url(#pf094edfac5)\">\n     <use style=\"fill:#008000;stroke:#008000;stroke-width:1.5;\" x=\"65.95613\" xlink:href=\"#m4d76bb911e\" y=\"206.52\"/>\n    </g>\n   </g>\n   <g id=\"PathCollection_74\">\n    <g clip-path=\"url(#pf094edfac5)\">\n     <use style=\"fill:#008000;stroke:#008000;stroke-width:1.5;\" x=\"50.480013\" xlink:href=\"#m4d76bb911e\" y=\"214.756364\"/>\n    </g>\n   </g>\n   <g id=\"PathCollection_75\">\n    <g clip-path=\"url(#pf094edfac5)\">\n     <use style=\"fill:#008000;stroke:#008000;stroke-width:1.5;\" x=\"65.95613\" xlink:href=\"#m4d76bb911e\" y=\"214.756364\"/>\n    </g>\n   </g>\n   <g id=\"PathCollection_76\">\n    <g clip-path=\"url(#pf094edfac5)\">\n     <use style=\"fill:#008000;stroke:#008000;stroke-width:1.5;\" x=\"81.432247\" xlink:href=\"#m4d76bb911e\" y=\"206.52\"/>\n    </g>\n   </g>\n   <g id=\"PathCollection_77\">\n    <g clip-path=\"url(#pf094edfac5)\">\n     <use style=\"fill:#008000;stroke:#008000;stroke-width:1.5;\" x=\"81.432247\" xlink:href=\"#m4d76bb911e\" y=\"198.283636\"/>\n    </g>\n   </g>\n   <g id=\"PathCollection_78\">\n    <g clip-path=\"url(#pf094edfac5)\">\n     <use style=\"fill:#008000;stroke:#008000;stroke-width:1.5;\" x=\"71.114835\" xlink:href=\"#m4d76bb911e\" y=\"198.283636\"/>\n    </g>\n   </g>\n   <g id=\"PathCollection_79\">\n    <g clip-path=\"url(#pf094edfac5)\">\n     <use style=\"fill:#008000;stroke:#008000;stroke-width:1.5;\" x=\"65.95613\" xlink:href=\"#m4d76bb911e\" y=\"198.283636\"/>\n    </g>\n   </g>\n   <g id=\"PathCollection_80\">\n    <g clip-path=\"url(#pf094edfac5)\">\n     <use style=\"fill:#008000;stroke:#008000;stroke-width:1.5;\" x=\"71.114835\" xlink:href=\"#m4d76bb911e\" y=\"214.756364\"/>\n    </g>\n   </g>\n   <g id=\"PathCollection_81\">\n    <g clip-path=\"url(#pf094edfac5)\">\n     <use style=\"fill:#008000;stroke:#008000;stroke-width:1.5;\" x=\"76.273541\" xlink:href=\"#m4d76bb911e\" y=\"206.52\"/>\n    </g>\n   </g>\n   <g id=\"PathCollection_82\">\n    <g clip-path=\"url(#pf094edfac5)\">\n     <use style=\"fill:#008000;stroke:#008000;stroke-width:1.5;\" x=\"65.95613\" xlink:href=\"#m4d76bb911e\" y=\"198.283636\"/>\n    </g>\n   </g>\n   <g id=\"PathCollection_83\">\n    <g clip-path=\"url(#pf094edfac5)\">\n     <use style=\"fill:#008000;stroke:#008000;stroke-width:1.5;\" x=\"91.749658\" xlink:href=\"#m4d76bb911e\" y=\"206.52\"/>\n    </g>\n   </g>\n   <g id=\"PathCollection_84\">\n    <g clip-path=\"url(#pf094edfac5)\">\n     <use style=\"fill:#008000;stroke:#008000;stroke-width:1.5;\" x=\"65.95613\" xlink:href=\"#m4d76bb911e\" y=\"206.52\"/>\n    </g>\n   </g>\n   <g id=\"PathCollection_85\">\n    <g clip-path=\"url(#pf094edfac5)\">\n     <use style=\"fill:#008000;stroke:#008000;stroke-width:1.5;\" x=\"71.114835\" xlink:href=\"#m4d76bb911e\" y=\"206.52\"/>\n    </g>\n   </g>\n   <g id=\"PathCollection_86\">\n    <g clip-path=\"url(#pf094edfac5)\">\n     <use style=\"fill:#008000;stroke:#008000;stroke-width:1.5;\" x=\"71.114835\" xlink:href=\"#m4d76bb911e\" y=\"206.52\"/>\n    </g>\n   </g>\n   <g id=\"PathCollection_87\">\n    <g clip-path=\"url(#pf094edfac5)\">\n     <use style=\"fill:#008000;stroke:#008000;stroke-width:1.5;\" x=\"91.749658\" xlink:href=\"#m4d76bb911e\" y=\"190.047273\"/>\n    </g>\n   </g>\n   <g id=\"PathCollection_88\">\n    <g clip-path=\"url(#pf094edfac5)\">\n     <use style=\"fill:#008000;stroke:#008000;stroke-width:1.5;\" x=\"76.273541\" xlink:href=\"#m4d76bb911e\" y=\"206.52\"/>\n    </g>\n   </g>\n   <g id=\"PathCollection_89\">\n    <g clip-path=\"url(#pf094edfac5)\">\n     <use style=\"fill:#008000;stroke:#008000;stroke-width:1.5;\" x=\"71.114835\" xlink:href=\"#m4d76bb911e\" y=\"206.52\"/>\n    </g>\n   </g>\n   <g id=\"PathCollection_90\">\n    <g clip-path=\"url(#pf094edfac5)\">\n     <use style=\"fill:#008000;stroke:#008000;stroke-width:1.5;\" x=\"65.95613\" xlink:href=\"#m4d76bb911e\" y=\"206.52\"/>\n    </g>\n   </g>\n   <g id=\"PathCollection_91\">\n    <g clip-path=\"url(#pf094edfac5)\">\n     <use style=\"fill:#008000;stroke:#008000;stroke-width:1.5;\" x=\"60.797424\" xlink:href=\"#m4d76bb911e\" y=\"206.52\"/>\n    </g>\n   </g>\n   <g id=\"PathCollection_92\">\n    <g clip-path=\"url(#pf094edfac5)\">\n     <use style=\"fill:#008000;stroke:#008000;stroke-width:1.5;\" x=\"76.273541\" xlink:href=\"#m4d76bb911e\" y=\"173.574545\"/>\n    </g>\n   </g>\n   <g id=\"PathCollection_93\">\n    <g clip-path=\"url(#pf094edfac5)\">\n     <use style=\"fill:#008000;stroke:#008000;stroke-width:1.5;\" x=\"65.95613\" xlink:href=\"#m4d76bb911e\" y=\"206.52\"/>\n    </g>\n   </g>\n   <g id=\"PathCollection_94\">\n    <g clip-path=\"url(#pf094edfac5)\">\n     <use style=\"fill:#008000;stroke:#008000;stroke-width:1.5;\" x=\"71.114835\" xlink:href=\"#m4d76bb911e\" y=\"214.756364\"/>\n    </g>\n   </g>\n   <g id=\"PathCollection_95\">\n    <g clip-path=\"url(#pf094edfac5)\">\n     <use style=\"fill:#008000;stroke:#008000;stroke-width:1.5;\" x=\"60.797424\" xlink:href=\"#m4d76bb911e\" y=\"206.52\"/>\n    </g>\n   </g>\n   <g id=\"PathCollection_96\">\n    <g clip-path=\"url(#pf094edfac5)\">\n     <use style=\"fill:#008000;stroke:#008000;stroke-width:1.5;\" x=\"71.114835\" xlink:href=\"#m4d76bb911e\" y=\"190.047273\"/>\n    </g>\n   </g>\n   <g id=\"PathCollection_97\">\n    <g clip-path=\"url(#pf094edfac5)\">\n     <use style=\"fill:#008000;stroke:#008000;stroke-width:1.5;\" x=\"65.95613\" xlink:href=\"#m4d76bb911e\" y=\"206.52\"/>\n    </g>\n   </g>\n   <g id=\"PathCollection_98\">\n    <g clip-path=\"url(#pf094edfac5)\">\n     <use style=\"fill:#008000;stroke:#008000;stroke-width:1.5;\" x=\"71.114835\" xlink:href=\"#m4d76bb911e\" y=\"206.52\"/>\n    </g>\n   </g>\n   <g id=\"PathCollection_99\">\n    <g clip-path=\"url(#pf094edfac5)\">\n     <use style=\"fill:#008000;stroke:#008000;stroke-width:1.5;\" x=\"71.114835\" xlink:href=\"#m4d76bb911e\" y=\"190.047273\"/>\n    </g>\n   </g>\n   <g id=\"PathCollection_100\">\n    <g clip-path=\"url(#pf094edfac5)\">\n     <use style=\"fill:#008000;stroke:#008000;stroke-width:1.5;\" x=\"60.797424\" xlink:href=\"#m4d76bb911e\" y=\"206.52\"/>\n    </g>\n   </g>\n   <g id=\"PathCollection_101\">\n    <g clip-path=\"url(#pf094edfac5)\">\n     <use style=\"fill:#008000;stroke:#008000;stroke-width:1.5;\" x=\"76.273541\" xlink:href=\"#m4d76bb911e\" y=\"206.52\"/>\n    </g>\n   </g>\n   <g id=\"PathCollection_102\">\n    <g clip-path=\"url(#pf094edfac5)\">\n     <use style=\"fill:#008000;stroke:#008000;stroke-width:1.5;\" x=\"76.273541\" xlink:href=\"#m4d76bb911e\" y=\"206.52\"/>\n    </g>\n   </g>\n   <g id=\"PathCollection_103\">\n    <g clip-path=\"url(#pf094edfac5)\">\n     <use style=\"fill:#008000;stroke:#008000;stroke-width:1.5;\" x=\"71.114835\" xlink:href=\"#m4d76bb911e\" y=\"190.047273\"/>\n    </g>\n   </g>\n   <g id=\"PathCollection_104\">\n    <g clip-path=\"url(#pf094edfac5)\">\n     <use style=\"fill:#008000;stroke:#008000;stroke-width:1.5;\" x=\"60.797424\" xlink:href=\"#m4d76bb911e\" y=\"198.283636\"/>\n    </g>\n   </g>\n   <g id=\"PathCollection_105\">\n    <g clip-path=\"url(#pf094edfac5)\">\n     <use style=\"fill:#008000;stroke:#008000;stroke-width:1.5;\" x=\"65.95613\" xlink:href=\"#m4d76bb911e\" y=\"206.52\"/>\n    </g>\n   </g>\n   <g id=\"PathCollection_106\">\n    <g clip-path=\"url(#pf094edfac5)\">\n     <use style=\"fill:#008000;stroke:#008000;stroke-width:1.5;\" x=\"81.432247\" xlink:href=\"#m4d76bb911e\" y=\"190.047273\"/>\n    </g>\n   </g>\n   <g id=\"PathCollection_107\">\n    <g clip-path=\"url(#pf094edfac5)\">\n     <use style=\"fill:#008000;stroke:#008000;stroke-width:1.5;\" x=\"55.638718\" xlink:href=\"#m4d76bb911e\" y=\"206.52\"/>\n    </g>\n   </g>\n   <g id=\"PathCollection_108\">\n    <g clip-path=\"url(#pf094edfac5)\">\n     <use style=\"fill:#008000;stroke:#008000;stroke-width:1.5;\" x=\"71.114835\" xlink:href=\"#m4d76bb911e\" y=\"214.756364\"/>\n    </g>\n   </g>\n   <g id=\"PathCollection_109\">\n    <g clip-path=\"url(#pf094edfac5)\">\n     <use style=\"fill:#008000;stroke:#008000;stroke-width:1.5;\" x=\"65.95613\" xlink:href=\"#m4d76bb911e\" y=\"198.283636\"/>\n    </g>\n   </g>\n   <g id=\"PathCollection_110\">\n    <g clip-path=\"url(#pf094edfac5)\">\n     <use style=\"fill:#008000;stroke:#008000;stroke-width:1.5;\" x=\"71.114835\" xlink:href=\"#m4d76bb911e\" y=\"206.52\"/>\n    </g>\n   </g>\n   <g id=\"PathCollection_111\">\n    <g clip-path=\"url(#pf094edfac5)\">\n     <use style=\"fill:#008000;stroke:#008000;stroke-width:1.5;\" x=\"81.432247\" xlink:href=\"#m4d76bb911e\" y=\"181.810909\"/>\n    </g>\n   </g>\n   <g id=\"PathCollection_112\">\n    <g clip-path=\"url(#pf094edfac5)\">\n     <use style=\"fill:#008000;stroke:#008000;stroke-width:1.5;\" x=\"60.797424\" xlink:href=\"#m4d76bb911e\" y=\"190.047273\"/>\n    </g>\n   </g>\n   <g id=\"PathCollection_113\">\n    <g clip-path=\"url(#pf094edfac5)\">\n     <use style=\"fill:#008000;stroke:#008000;stroke-width:1.5;\" x=\"45.321307\" xlink:href=\"#m4d76bb911e\" y=\"206.52\"/>\n    </g>\n   </g>\n   <g id=\"PathCollection_114\">\n    <g clip-path=\"url(#pf094edfac5)\">\n     <use style=\"fill:#008000;stroke:#008000;stroke-width:1.5;\" x=\"71.114835\" xlink:href=\"#m4d76bb911e\" y=\"206.52\"/>\n    </g>\n   </g>\n   <g id=\"PathCollection_115\">\n    <defs>\n     <path d=\"M -3 3 \nL 3 -3 \nM -3 -3 \nL 3 3 \n\" id=\"m53c88bb0bb\" style=\"stroke:#0000ff;stroke-width:1.5;\"/>\n    </defs>\n    <g clip-path=\"url(#pf094edfac5)\">\n     <use style=\"fill:#0000ff;stroke:#0000ff;stroke-width:1.5;\" x=\"267.145652\" xlink:href=\"#m53c88bb0bb\" y=\"33.556364\"/>\n    </g>\n   </g>\n   <g id=\"PathCollection_116\">\n    <g clip-path=\"url(#pf094edfac5)\">\n     <use style=\"fill:#0000ff;stroke:#0000ff;stroke-width:1.5;\" x=\"318.732709\" xlink:href=\"#m53c88bb0bb\" y=\"74.738182\"/>\n    </g>\n   </g>\n   <g id=\"PathCollection_117\">\n    <g clip-path=\"url(#pf094edfac5)\">\n     <use style=\"fill:#0000ff;stroke:#0000ff;stroke-width:1.5;\" x=\"287.780475\" xlink:href=\"#m53c88bb0bb\" y=\"17.083636\"/>\n    </g>\n   </g>\n   <g id=\"PathCollection_118\">\n    <g clip-path=\"url(#pf094edfac5)\">\n     <use style=\"fill:#0000ff;stroke:#0000ff;stroke-width:1.5;\" x=\"256.828241\" xlink:href=\"#m53c88bb0bb\" y=\"58.265455\"/>\n    </g>\n   </g>\n   <g id=\"PathCollection_119\">\n    <g clip-path=\"url(#pf094edfac5)\">\n     <use style=\"fill:#0000ff;stroke:#0000ff;stroke-width:1.5;\" x=\"349.684943\" xlink:href=\"#m53c88bb0bb\" y=\"33.556364\"/>\n    </g>\n   </g>\n   <g id=\"PathCollection_120\">\n    <g clip-path=\"url(#pf094edfac5)\">\n     <use style=\"fill:#0000ff;stroke:#0000ff;stroke-width:1.5;\" x=\"298.097886\" xlink:href=\"#m53c88bb0bb\" y=\"50.029091\"/>\n    </g>\n   </g>\n   <g id=\"PathCollection_121\">\n    <g clip-path=\"url(#pf094edfac5)\">\n     <use style=\"fill:#0000ff;stroke:#0000ff;stroke-width:1.5;\" x=\"282.621769\" xlink:href=\"#m53c88bb0bb\" y=\"41.792727\"/>\n    </g>\n   </g>\n   <g id=\"PathCollection_122\">\n    <g clip-path=\"url(#pf094edfac5)\">\n     <use style=\"fill:#0000ff;stroke:#0000ff;stroke-width:1.5;\" x=\"236.193418\" xlink:href=\"#m53c88bb0bb\" y=\"107.683636\"/>\n    </g>\n   </g>\n   <g id=\"PathCollection_123\">\n    <g clip-path=\"url(#pf094edfac5)\">\n     <use style=\"fill:#0000ff;stroke:#0000ff;stroke-width:1.5;\" x=\"272.304358\" xlink:href=\"#m53c88bb0bb\" y=\"33.556364\"/>\n    </g>\n   </g>\n   <g id=\"PathCollection_124\">\n    <g clip-path=\"url(#pf094edfac5)\">\n     <use style=\"fill:#0000ff;stroke:#0000ff;stroke-width:1.5;\" x=\"308.415298\" xlink:href=\"#m53c88bb0bb\" y=\"33.556364\"/>\n    </g>\n   </g>\n   <g id=\"PathCollection_125\">\n    <g clip-path=\"url(#pf094edfac5)\">\n     <use style=\"fill:#0000ff;stroke:#0000ff;stroke-width:1.5;\" x=\"256.828241\" xlink:href=\"#m53c88bb0bb\" y=\"33.556364\"/>\n    </g>\n   </g>\n   <g id=\"PathCollection_126\">\n    <g clip-path=\"url(#pf094edfac5)\">\n     <use style=\"fill:#0000ff;stroke:#0000ff;stroke-width:1.5;\" x=\"282.621769\" xlink:href=\"#m53c88bb0bb\" y=\"25.32\"/>\n    </g>\n   </g>\n   <g id=\"PathCollection_127\">\n    <g clip-path=\"url(#pf094edfac5)\">\n     <use style=\"fill:#0000ff;stroke:#0000ff;stroke-width:1.5;\" x=\"272.304358\" xlink:href=\"#m53c88bb0bb\" y=\"50.029091\"/>\n    </g>\n   </g>\n   <g id=\"PathCollection_128\">\n    <g clip-path=\"url(#pf094edfac5)\">\n     <use style=\"fill:#0000ff;stroke:#0000ff;stroke-width:1.5;\" x=\"277.463063\" xlink:href=\"#m53c88bb0bb\" y=\"74.738182\"/>\n    </g>\n   </g>\n   <g id=\"PathCollection_129\">\n    <g clip-path=\"url(#pf094edfac5)\">\n     <use style=\"fill:#0000ff;stroke:#0000ff;stroke-width:1.5;\" x=\"277.463063\" xlink:href=\"#m53c88bb0bb\" y=\"50.029091\"/>\n    </g>\n   </g>\n   <g id=\"PathCollection_130\">\n    <g clip-path=\"url(#pf094edfac5)\">\n     <use style=\"fill:#0000ff;stroke:#0000ff;stroke-width:1.5;\" x=\"334.208826\" xlink:href=\"#m53c88bb0bb\" y=\"50.029091\"/>\n    </g>\n   </g>\n   <g id=\"PathCollection_131\">\n    <g clip-path=\"url(#pf094edfac5)\">\n     <use style=\"fill:#0000ff;stroke:#0000ff;stroke-width:1.5;\" x=\"261.986946\" xlink:href=\"#m53c88bb0bb\" y=\"58.265455\"/>\n    </g>\n   </g>\n   <g id=\"PathCollection_132\">\n    <g clip-path=\"url(#pf094edfac5)\">\n     <use style=\"fill:#0000ff;stroke:#0000ff;stroke-width:1.5;\" x=\"292.93918\" xlink:href=\"#m53c88bb0bb\" y=\"41.792727\"/>\n    </g>\n   </g>\n   <g id=\"PathCollection_133\">\n    <g clip-path=\"url(#pf094edfac5)\">\n     <use style=\"fill:#0000ff;stroke:#0000ff;stroke-width:1.5;\" x=\"282.621769\" xlink:href=\"#m53c88bb0bb\" y=\"50.029091\"/>\n    </g>\n   </g>\n   <g id=\"PathCollection_134\">\n    <g clip-path=\"url(#pf094edfac5)\">\n     <use style=\"fill:#0000ff;stroke:#0000ff;stroke-width:1.5;\" x=\"339.367532\" xlink:href=\"#m53c88bb0bb\" y=\"58.265455\"/>\n    </g>\n   </g>\n   <g id=\"PathCollection_135\">\n    <g clip-path=\"url(#pf094edfac5)\">\n     <use style=\"fill:#0000ff;stroke:#0000ff;stroke-width:1.5;\" x=\"267.145652\" xlink:href=\"#m53c88bb0bb\" y=\"66.501818\"/>\n    </g>\n   </g>\n   <g id=\"PathCollection_136\">\n    <g clip-path=\"url(#pf094edfac5)\">\n     <use style=\"fill:#0000ff;stroke:#0000ff;stroke-width:1.5;\" x=\"246.510829\" xlink:href=\"#m53c88bb0bb\" y=\"99.447273\"/>\n    </g>\n   </g>\n   <g id=\"PathCollection_137\">\n    <g clip-path=\"url(#pf094edfac5)\">\n     <use style=\"fill:#0000ff;stroke:#0000ff;stroke-width:1.5;\" x=\"282.621769\" xlink:href=\"#m53c88bb0bb\" y=\"74.738182\"/>\n    </g>\n   </g>\n   <g id=\"PathCollection_138\">\n    <g clip-path=\"url(#pf094edfac5)\">\n     <use style=\"fill:#0000ff;stroke:#0000ff;stroke-width:1.5;\" x=\"308.415298\" xlink:href=\"#m53c88bb0bb\" y=\"17.083636\"/>\n    </g>\n   </g>\n   <g id=\"PathCollection_139\">\n    <g clip-path=\"url(#pf094edfac5)\">\n     <use style=\"fill:#0000ff;stroke:#0000ff;stroke-width:1.5;\" x=\"287.780475\" xlink:href=\"#m53c88bb0bb\" y=\"33.556364\"/>\n    </g>\n   </g>\n   <g id=\"PathCollection_140\">\n    <g clip-path=\"url(#pf094edfac5)\">\n     <use style=\"fill:#0000ff;stroke:#0000ff;stroke-width:1.5;\" x=\"303.256592\" xlink:href=\"#m53c88bb0bb\" y=\"17.083636\"/>\n    </g>\n   </g>\n   <g id=\"PathCollection_141\">\n    <g clip-path=\"url(#pf094edfac5)\">\n     <use style=\"fill:#0000ff;stroke:#0000ff;stroke-width:1.5;\" x=\"282.621769\" xlink:href=\"#m53c88bb0bb\" y=\"25.32\"/>\n    </g>\n   </g>\n   <g id=\"PathCollection_142\">\n    <g clip-path=\"url(#pf094edfac5)\">\n     <use style=\"fill:#0000ff;stroke:#0000ff;stroke-width:1.5;\" x=\"277.463063\" xlink:href=\"#m53c88bb0bb\" y=\"74.738182\"/>\n    </g>\n   </g>\n   <g id=\"PathCollection_143\">\n    <g clip-path=\"url(#pf094edfac5)\">\n     <use style=\"fill:#0000ff;stroke:#0000ff;stroke-width:1.5;\" x=\"261.986946\" xlink:href=\"#m53c88bb0bb\" y=\"33.556364\"/>\n    </g>\n   </g>\n   <g id=\"PathCollection_144\">\n    <g clip-path=\"url(#pf094edfac5)\">\n     <use style=\"fill:#0000ff;stroke:#0000ff;stroke-width:1.5;\" x=\"339.367532\" xlink:href=\"#m53c88bb0bb\" y=\"41.792727\"/>\n    </g>\n   </g>\n   <g id=\"PathCollection_145\">\n    <g clip-path=\"url(#pf094edfac5)\">\n     <use style=\"fill:#0000ff;stroke:#0000ff;stroke-width:1.5;\" x=\"292.93918\" xlink:href=\"#m53c88bb0bb\" y=\"74.738182\"/>\n    </g>\n   </g>\n   <g id=\"PathCollection_146\">\n    <g clip-path=\"url(#pf094edfac5)\">\n     <use style=\"fill:#0000ff;stroke:#0000ff;stroke-width:1.5;\" x=\"298.097886\" xlink:href=\"#m53c88bb0bb\" y=\"33.556364\"/>\n    </g>\n   </g>\n   <g id=\"PathCollection_147\">\n    <g clip-path=\"url(#pf094edfac5)\">\n     <use style=\"fill:#0000ff;stroke:#0000ff;stroke-width:1.5;\" x=\"287.780475\" xlink:href=\"#m53c88bb0bb\" y=\"50.029091\"/>\n    </g>\n   </g>\n   <g id=\"PathCollection_148\">\n    <g clip-path=\"url(#pf094edfac5)\">\n     <use style=\"fill:#0000ff;stroke:#0000ff;stroke-width:1.5;\" x=\"292.93918\" xlink:href=\"#m53c88bb0bb\" y=\"91.210909\"/>\n    </g>\n   </g>\n   <g id=\"PathCollection_149\">\n    <g clip-path=\"url(#pf094edfac5)\">\n     <use style=\"fill:#0000ff;stroke:#0000ff;stroke-width:1.5;\" x=\"308.415298\" xlink:href=\"#m53c88bb0bb\" y=\"66.501818\"/>\n    </g>\n   </g>\n   <g id=\"PathCollection_150\">\n    <g clip-path=\"url(#pf094edfac5)\">\n     <use style=\"fill:#0000ff;stroke:#0000ff;stroke-width:1.5;\" x=\"251.669535\" xlink:href=\"#m53c88bb0bb\" y=\"82.974545\"/>\n    </g>\n   </g>\n   <g id=\"PathCollection_151\">\n    <g clip-path=\"url(#pf094edfac5)\">\n     <use style=\"fill:#0000ff;stroke:#0000ff;stroke-width:1.5;\" x=\"323.891415\" xlink:href=\"#m53c88bb0bb\" y=\"58.265455\"/>\n    </g>\n   </g>\n   <g id=\"PathCollection_152\">\n    <g clip-path=\"url(#pf094edfac5)\">\n     <use style=\"fill:#0000ff;stroke:#0000ff;stroke-width:1.5;\" x=\"282.621769\" xlink:href=\"#m53c88bb0bb\" y=\"107.683636\"/>\n    </g>\n   </g>\n   <g id=\"PathCollection_153\">\n    <g clip-path=\"url(#pf094edfac5)\">\n     <use style=\"fill:#0000ff;stroke:#0000ff;stroke-width:1.5;\" x=\"303.256592\" xlink:href=\"#m53c88bb0bb\" y=\"74.738182\"/>\n    </g>\n   </g>\n   <g id=\"matplotlib.axis_1\">\n    <g id=\"xtick_1\">\n     <g id=\"line2d_1\">\n      <defs>\n       <path d=\"M 0 0 \nL 0 3.5 \n\" id=\"md5b0d109ab\" style=\"stroke:#000000;stroke-width:0.8;\"/>\n      </defs>\n      <g>\n       <use style=\"stroke:#000000;stroke-width:0.8;\" x=\"45.321307\" xlink:href=\"#md5b0d109ab\" y=\"224.64\"/>\n      </g>\n     </g>\n     <g id=\"text_1\">\n      <!-- 1 -->\n      <g transform=\"translate(42.140057 239.238437)scale(0.1 -0.1)\">\n       <defs>\n        <path d=\"M 12.40625 8.296875 \nL 28.515625 8.296875 \nL 28.515625 63.921875 \nL 10.984375 60.40625 \nL 10.984375 69.390625 \nL 28.421875 72.90625 \nL 38.28125 72.90625 \nL 38.28125 8.296875 \nL 54.390625 8.296875 \nL 54.390625 0 \nL 12.40625 0 \nz\n\" id=\"DejaVuSans-49\"/>\n       </defs>\n       <use xlink:href=\"#DejaVuSans-49\"/>\n      </g>\n     </g>\n    </g>\n    <g id=\"xtick_2\">\n     <g id=\"line2d_2\">\n      <g>\n       <use style=\"stroke:#000000;stroke-width:0.8;\" x=\"96.908364\" xlink:href=\"#md5b0d109ab\" y=\"224.64\"/>\n      </g>\n     </g>\n     <g id=\"text_2\">\n      <!-- 2 -->\n      <g transform=\"translate(93.727114 239.238437)scale(0.1 -0.1)\">\n       <defs>\n        <path d=\"M 19.1875 8.296875 \nL 53.609375 8.296875 \nL 53.609375 0 \nL 7.328125 0 \nL 7.328125 8.296875 \nQ 12.9375 14.109375 22.625 23.890625 \nQ 32.328125 33.6875 34.8125 36.53125 \nQ 39.546875 41.84375 41.421875 45.53125 \nQ 43.3125 49.21875 43.3125 52.78125 \nQ 43.3125 58.59375 39.234375 62.25 \nQ 35.15625 65.921875 28.609375 65.921875 \nQ 23.96875 65.921875 18.8125 64.3125 \nQ 13.671875 62.703125 7.8125 59.421875 \nL 7.8125 69.390625 \nQ 13.765625 71.78125 18.9375 73 \nQ 24.125 74.21875 28.421875 74.21875 \nQ 39.75 74.21875 46.484375 68.546875 \nQ 53.21875 62.890625 53.21875 53.421875 \nQ 53.21875 48.921875 51.53125 44.890625 \nQ 49.859375 40.875 45.40625 35.40625 \nQ 44.1875 33.984375 37.640625 27.21875 \nQ 31.109375 20.453125 19.1875 8.296875 \nz\n\" id=\"DejaVuSans-50\"/>\n       </defs>\n       <use xlink:href=\"#DejaVuSans-50\"/>\n      </g>\n     </g>\n    </g>\n    <g id=\"xtick_3\">\n     <g id=\"line2d_3\">\n      <g>\n       <use style=\"stroke:#000000;stroke-width:0.8;\" x=\"148.495421\" xlink:href=\"#md5b0d109ab\" y=\"224.64\"/>\n      </g>\n     </g>\n     <g id=\"text_3\">\n      <!-- 3 -->\n      <g transform=\"translate(145.314171 239.238437)scale(0.1 -0.1)\">\n       <defs>\n        <path d=\"M 40.578125 39.3125 \nQ 47.65625 37.796875 51.625 33 \nQ 55.609375 28.21875 55.609375 21.1875 \nQ 55.609375 10.40625 48.1875 4.484375 \nQ 40.765625 -1.421875 27.09375 -1.421875 \nQ 22.515625 -1.421875 17.65625 -0.515625 \nQ 12.796875 0.390625 7.625 2.203125 \nL 7.625 11.71875 \nQ 11.71875 9.328125 16.59375 8.109375 \nQ 21.484375 6.890625 26.8125 6.890625 \nQ 36.078125 6.890625 40.9375 10.546875 \nQ 45.796875 14.203125 45.796875 21.1875 \nQ 45.796875 27.640625 41.28125 31.265625 \nQ 36.765625 34.90625 28.71875 34.90625 \nL 20.21875 34.90625 \nL 20.21875 43.015625 \nL 29.109375 43.015625 \nQ 36.375 43.015625 40.234375 45.921875 \nQ 44.09375 48.828125 44.09375 54.296875 \nQ 44.09375 59.90625 40.109375 62.90625 \nQ 36.140625 65.921875 28.71875 65.921875 \nQ 24.65625 65.921875 20.015625 65.03125 \nQ 15.375 64.15625 9.8125 62.3125 \nL 9.8125 71.09375 \nQ 15.4375 72.65625 20.34375 73.4375 \nQ 25.25 74.21875 29.59375 74.21875 \nQ 40.828125 74.21875 47.359375 69.109375 \nQ 53.90625 64.015625 53.90625 55.328125 \nQ 53.90625 49.265625 50.4375 45.09375 \nQ 46.96875 40.921875 40.578125 39.3125 \nz\n\" id=\"DejaVuSans-51\"/>\n       </defs>\n       <use xlink:href=\"#DejaVuSans-51\"/>\n      </g>\n     </g>\n    </g>\n    <g id=\"xtick_4\">\n     <g id=\"line2d_4\">\n      <g>\n       <use style=\"stroke:#000000;stroke-width:0.8;\" x=\"200.082478\" xlink:href=\"#md5b0d109ab\" y=\"224.64\"/>\n      </g>\n     </g>\n     <g id=\"text_4\">\n      <!-- 4 -->\n      <g transform=\"translate(196.901228 239.238437)scale(0.1 -0.1)\">\n       <defs>\n        <path d=\"M 37.796875 64.3125 \nL 12.890625 25.390625 \nL 37.796875 25.390625 \nz\nM 35.203125 72.90625 \nL 47.609375 72.90625 \nL 47.609375 25.390625 \nL 58.015625 25.390625 \nL 58.015625 17.1875 \nL 47.609375 17.1875 \nL 47.609375 0 \nL 37.796875 0 \nL 37.796875 17.1875 \nL 4.890625 17.1875 \nL 4.890625 26.703125 \nz\n\" id=\"DejaVuSans-52\"/>\n       </defs>\n       <use xlink:href=\"#DejaVuSans-52\"/>\n      </g>\n     </g>\n    </g>\n    <g id=\"xtick_5\">\n     <g id=\"line2d_5\">\n      <g>\n       <use style=\"stroke:#000000;stroke-width:0.8;\" x=\"251.669535\" xlink:href=\"#md5b0d109ab\" y=\"224.64\"/>\n      </g>\n     </g>\n     <g id=\"text_5\">\n      <!-- 5 -->\n      <g transform=\"translate(248.488285 239.238437)scale(0.1 -0.1)\">\n       <defs>\n        <path d=\"M 10.796875 72.90625 \nL 49.515625 72.90625 \nL 49.515625 64.59375 \nL 19.828125 64.59375 \nL 19.828125 46.734375 \nQ 21.96875 47.46875 24.109375 47.828125 \nQ 26.265625 48.1875 28.421875 48.1875 \nQ 40.625 48.1875 47.75 41.5 \nQ 54.890625 34.8125 54.890625 23.390625 \nQ 54.890625 11.625 47.5625 5.09375 \nQ 40.234375 -1.421875 26.90625 -1.421875 \nQ 22.3125 -1.421875 17.546875 -0.640625 \nQ 12.796875 0.140625 7.71875 1.703125 \nL 7.71875 11.625 \nQ 12.109375 9.234375 16.796875 8.0625 \nQ 21.484375 6.890625 26.703125 6.890625 \nQ 35.15625 6.890625 40.078125 11.328125 \nQ 45.015625 15.765625 45.015625 23.390625 \nQ 45.015625 31 40.078125 35.4375 \nQ 35.15625 39.890625 26.703125 39.890625 \nQ 22.75 39.890625 18.8125 39.015625 \nQ 14.890625 38.140625 10.796875 36.28125 \nz\n\" id=\"DejaVuSans-53\"/>\n       </defs>\n       <use xlink:href=\"#DejaVuSans-53\"/>\n      </g>\n     </g>\n    </g>\n    <g id=\"xtick_6\">\n     <g id=\"line2d_6\">\n      <g>\n       <use style=\"stroke:#000000;stroke-width:0.8;\" x=\"303.256592\" xlink:href=\"#md5b0d109ab\" y=\"224.64\"/>\n      </g>\n     </g>\n     <g id=\"text_6\">\n      <!-- 6 -->\n      <g transform=\"translate(300.075342 239.238437)scale(0.1 -0.1)\">\n       <defs>\n        <path d=\"M 33.015625 40.375 \nQ 26.375 40.375 22.484375 35.828125 \nQ 18.609375 31.296875 18.609375 23.390625 \nQ 18.609375 15.53125 22.484375 10.953125 \nQ 26.375 6.390625 33.015625 6.390625 \nQ 39.65625 6.390625 43.53125 10.953125 \nQ 47.40625 15.53125 47.40625 23.390625 \nQ 47.40625 31.296875 43.53125 35.828125 \nQ 39.65625 40.375 33.015625 40.375 \nz\nM 52.59375 71.296875 \nL 52.59375 62.3125 \nQ 48.875 64.0625 45.09375 64.984375 \nQ 41.3125 65.921875 37.59375 65.921875 \nQ 27.828125 65.921875 22.671875 59.328125 \nQ 17.53125 52.734375 16.796875 39.40625 \nQ 19.671875 43.65625 24.015625 45.921875 \nQ 28.375 48.1875 33.59375 48.1875 \nQ 44.578125 48.1875 50.953125 41.515625 \nQ 57.328125 34.859375 57.328125 23.390625 \nQ 57.328125 12.15625 50.6875 5.359375 \nQ 44.046875 -1.421875 33.015625 -1.421875 \nQ 20.359375 -1.421875 13.671875 8.265625 \nQ 6.984375 17.96875 6.984375 36.375 \nQ 6.984375 53.65625 15.1875 63.9375 \nQ 23.390625 74.21875 37.203125 74.21875 \nQ 40.921875 74.21875 44.703125 73.484375 \nQ 48.484375 72.75 52.59375 71.296875 \nz\n\" id=\"DejaVuSans-54\"/>\n       </defs>\n       <use xlink:href=\"#DejaVuSans-54\"/>\n      </g>\n     </g>\n    </g>\n    <g id=\"xtick_7\">\n     <g id=\"line2d_7\">\n      <g>\n       <use style=\"stroke:#000000;stroke-width:0.8;\" x=\"354.843649\" xlink:href=\"#md5b0d109ab\" y=\"224.64\"/>\n      </g>\n     </g>\n     <g id=\"text_7\">\n      <!-- 7 -->\n      <g transform=\"translate(351.662399 239.238437)scale(0.1 -0.1)\">\n       <defs>\n        <path d=\"M 8.203125 72.90625 \nL 55.078125 72.90625 \nL 55.078125 68.703125 \nL 28.609375 0 \nL 18.3125 0 \nL 43.21875 64.59375 \nL 8.203125 64.59375 \nz\n\" id=\"DejaVuSans-55\"/>\n       </defs>\n       <use xlink:href=\"#DejaVuSans-55\"/>\n      </g>\n     </g>\n    </g>\n   </g>\n   <g id=\"matplotlib.axis_2\">\n    <g id=\"ytick_1\">\n     <g id=\"line2d_8\">\n      <defs>\n       <path d=\"M 0 0 \nL -3.5 0 \n\" id=\"macb2c83911\" style=\"stroke:#000000;stroke-width:0.8;\"/>\n      </defs>\n      <g>\n       <use style=\"stroke:#000000;stroke-width:0.8;\" x=\"30.103125\" xlink:href=\"#macb2c83911\" y=\"222.992727\"/>\n      </g>\n     </g>\n     <g id=\"text_8\">\n      <!-- 0.0 -->\n      <g transform=\"translate(7.2 226.791946)scale(0.1 -0.1)\">\n       <defs>\n        <path d=\"M 31.78125 66.40625 \nQ 24.171875 66.40625 20.328125 58.90625 \nQ 16.5 51.421875 16.5 36.375 \nQ 16.5 21.390625 20.328125 13.890625 \nQ 24.171875 6.390625 31.78125 6.390625 \nQ 39.453125 6.390625 43.28125 13.890625 \nQ 47.125 21.390625 47.125 36.375 \nQ 47.125 51.421875 43.28125 58.90625 \nQ 39.453125 66.40625 31.78125 66.40625 \nz\nM 31.78125 74.21875 \nQ 44.046875 74.21875 50.515625 64.515625 \nQ 56.984375 54.828125 56.984375 36.375 \nQ 56.984375 17.96875 50.515625 8.265625 \nQ 44.046875 -1.421875 31.78125 -1.421875 \nQ 19.53125 -1.421875 13.0625 8.265625 \nQ 6.59375 17.96875 6.59375 36.375 \nQ 6.59375 54.828125 13.0625 64.515625 \nQ 19.53125 74.21875 31.78125 74.21875 \nz\n\" id=\"DejaVuSans-48\"/>\n        <path d=\"M 10.6875 12.40625 \nL 21 12.40625 \nL 21 0 \nL 10.6875 0 \nz\n\" id=\"DejaVuSans-46\"/>\n       </defs>\n       <use xlink:href=\"#DejaVuSans-48\"/>\n       <use x=\"63.623047\" xlink:href=\"#DejaVuSans-46\"/>\n       <use x=\"95.410156\" xlink:href=\"#DejaVuSans-48\"/>\n      </g>\n     </g>\n    </g>\n    <g id=\"ytick_2\">\n     <g id=\"line2d_9\">\n      <g>\n       <use style=\"stroke:#000000;stroke-width:0.8;\" x=\"30.103125\" xlink:href=\"#macb2c83911\" y=\"181.810909\"/>\n      </g>\n     </g>\n     <g id=\"text_9\">\n      <!-- 0.5 -->\n      <g transform=\"translate(7.2 185.610128)scale(0.1 -0.1)\">\n       <use xlink:href=\"#DejaVuSans-48\"/>\n       <use x=\"63.623047\" xlink:href=\"#DejaVuSans-46\"/>\n       <use x=\"95.410156\" xlink:href=\"#DejaVuSans-53\"/>\n      </g>\n     </g>\n    </g>\n    <g id=\"ytick_3\">\n     <g id=\"line2d_10\">\n      <g>\n       <use style=\"stroke:#000000;stroke-width:0.8;\" x=\"30.103125\" xlink:href=\"#macb2c83911\" y=\"140.629091\"/>\n      </g>\n     </g>\n     <g id=\"text_10\">\n      <!-- 1.0 -->\n      <g transform=\"translate(7.2 144.42831)scale(0.1 -0.1)\">\n       <use xlink:href=\"#DejaVuSans-49\"/>\n       <use x=\"63.623047\" xlink:href=\"#DejaVuSans-46\"/>\n       <use x=\"95.410156\" xlink:href=\"#DejaVuSans-48\"/>\n      </g>\n     </g>\n    </g>\n    <g id=\"ytick_4\">\n     <g id=\"line2d_11\">\n      <g>\n       <use style=\"stroke:#000000;stroke-width:0.8;\" x=\"30.103125\" xlink:href=\"#macb2c83911\" y=\"99.447273\"/>\n      </g>\n     </g>\n     <g id=\"text_11\">\n      <!-- 1.5 -->\n      <g transform=\"translate(7.2 103.246491)scale(0.1 -0.1)\">\n       <use xlink:href=\"#DejaVuSans-49\"/>\n       <use x=\"63.623047\" xlink:href=\"#DejaVuSans-46\"/>\n       <use x=\"95.410156\" xlink:href=\"#DejaVuSans-53\"/>\n      </g>\n     </g>\n    </g>\n    <g id=\"ytick_5\">\n     <g id=\"line2d_12\">\n      <g>\n       <use style=\"stroke:#000000;stroke-width:0.8;\" x=\"30.103125\" xlink:href=\"#macb2c83911\" y=\"58.265455\"/>\n      </g>\n     </g>\n     <g id=\"text_12\">\n      <!-- 2.0 -->\n      <g transform=\"translate(7.2 62.064673)scale(0.1 -0.1)\">\n       <use xlink:href=\"#DejaVuSans-50\"/>\n       <use x=\"63.623047\" xlink:href=\"#DejaVuSans-46\"/>\n       <use x=\"95.410156\" xlink:href=\"#DejaVuSans-48\"/>\n      </g>\n     </g>\n    </g>\n    <g id=\"ytick_6\">\n     <g id=\"line2d_13\">\n      <g>\n       <use style=\"stroke:#000000;stroke-width:0.8;\" x=\"30.103125\" xlink:href=\"#macb2c83911\" y=\"17.083636\"/>\n      </g>\n     </g>\n     <g id=\"text_13\">\n      <!-- 2.5 -->\n      <g transform=\"translate(7.2 20.882855)scale(0.1 -0.1)\">\n       <use xlink:href=\"#DejaVuSans-50\"/>\n       <use x=\"63.623047\" xlink:href=\"#DejaVuSans-46\"/>\n       <use x=\"95.410156\" xlink:href=\"#DejaVuSans-53\"/>\n      </g>\n     </g>\n    </g>\n   </g>\n   <g id=\"patch_3\">\n    <path d=\"M 30.103125 224.64 \nL 30.103125 7.2 \n\" style=\"fill:none;stroke:#000000;stroke-linecap:square;stroke-linejoin:miter;stroke-width:0.8;\"/>\n   </g>\n   <g id=\"patch_4\">\n    <path d=\"M 364.903125 224.64 \nL 364.903125 7.2 \n\" style=\"fill:none;stroke:#000000;stroke-linecap:square;stroke-linejoin:miter;stroke-width:0.8;\"/>\n   </g>\n   <g id=\"patch_5\">\n    <path d=\"M 30.103125 224.64 \nL 364.903125 224.64 \n\" style=\"fill:none;stroke:#000000;stroke-linecap:square;stroke-linejoin:miter;stroke-width:0.8;\"/>\n   </g>\n   <g id=\"patch_6\">\n    <path d=\"M 30.103125 7.2 \nL 364.903125 7.2 \n\" style=\"fill:none;stroke:#000000;stroke-linecap:square;stroke-linejoin:miter;stroke-width:0.8;\"/>\n   </g>\n  </g>\n </g>\n <defs>\n  <clipPath id=\"pf094edfac5\">\n   <rect height=\"217.44\" width=\"334.8\" x=\"30.103125\" y=\"7.2\"/>\n  </clipPath>\n </defs>\n</svg>\n",
      "image/png": "[encoded data removed]"
     },
     "metadata": {
      "needs_background": "light"
     }
    }
   ],
   "source": [
    "####### for each cluster --> print(each series with values and index)\n",
    "colors = [\"r\", \"g\", \"b\"]\n",
    "\n",
    "\n",
    "\n",
    "######### mark the centroids\n",
    "for i in range(len(centroids)):\n",
    "    plt.scatter(centroids[i][2], centroids[i][3], color= \"k\", marker=\"o\")\n",
    "\n",
    "\n",
    "i = 0\n",
    "for cluster in clusters:\n",
    "\n",
    "    color_for_this_cluster = colors[i]\n",
    "    \n",
    "    i += 1\n",
    "\n",
    "    for point in cluster:\n",
    "\n",
    "        plt.scatter(point[2], point[3], color = color_for_this_cluster, marker=\"x\")\n",
    "\n",
    "plt.show()"
   ]
  },
  {
   "cell_type": "code",
   "execution_count": 187,
   "metadata": {},
   "outputs": [
    {
     "output_type": "execute_result",
     "data": {
      "text/plain": [
       "0    6.9\n",
       "1    3.1\n",
       "2    4.9\n",
       "3    1.5\n",
       "Name: 0, dtype: float64"
      ]
     },
     "metadata": {},
     "execution_count": 187
    }
   ],
   "source": [
    "clusters[0][0]"
   ]
  },
  {
   "cell_type": "code",
   "execution_count": 186,
   "metadata": {},
   "outputs": [
    {
     "output_type": "execute_result",
     "data": {
      "text/plain": [
       "array([6.85      , 3.07368421, 5.74210526, 2.07105263])"
      ]
     },
     "metadata": {},
     "execution_count": 186
    }
   ],
   "source": [
    "centroids[0]"
   ]
  },
  {
   "cell_type": "code",
   "execution_count": null,
   "metadata": {},
   "outputs": [],
   "source": []
  }
 ]
}