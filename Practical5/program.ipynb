{
 "metadata": {
  "language_info": {
   "codemirror_mode": {
    "name": "ipython",
    "version": 3
   },
   "file_extension": ".py",
   "mimetype": "text/x-python",
   "name": "python",
   "nbconvert_exporter": "python",
   "pygments_lexer": "ipython3",
   "version": "3.8.5-final"
  },
  "orig_nbformat": 2,
  "kernelspec": {
   "name": "python38564bit5f47e5b54e4247e2affe1ce946898e57",
   "display_name": "Python 3.8.5 64-bit",
   "language": "python"
  }
 },
 "nbformat": 4,
 "nbformat_minor": 2,
 "cells": [
  {
   "cell_type": "code",
   "execution_count": 43,
   "metadata": {},
   "outputs": [],
   "source": [
    "test_matrix1 = [\n",
    "    [250, 16, 12, 5],\n",
    "    [200, 16, 8, 3],\n",
    "    [300, 32, 16, 4],\n",
    "    [275, 32, 8, 4],\n",
    "    [225, 16, 16, 2]\n",
    "]\n",
    "\n",
    "n_rows = 5\n",
    "n_cols = 4\n",
    "\n",
    "weights = [0.25, 0.25, 0.25, 0.25]\n",
    "actions = ['-', '+', '+', '+']"
   ]
  },
  {
   "cell_type": "code",
   "execution_count": 44,
   "metadata": {},
   "outputs": [
    {
     "output_type": "execute_result",
     "data": {
      "text/plain": [
       "[[250, 16, 12, 5],\n",
       " [200, 16, 8, 3],\n",
       " [300, 32, 16, 4],\n",
       " [275, 32, 8, 4],\n",
       " [225, 16, 16, 2]]"
      ]
     },
     "metadata": {},
     "execution_count": 44
    }
   ],
   "source": [
    "test_matrix1\n"
   ]
  },
  {
   "cell_type": "code",
   "execution_count": 45,
   "metadata": {},
   "outputs": [],
   "source": [
    "# Normalize matrix\n",
    "rms_values_cols = [0 for _ in range(n_cols)]\n",
    "\n",
    "for col in range(n_cols):\n",
    "\n",
    "    for row in range(n_rows):\n",
    "\n",
    "        rms_values_cols[col] += (test_matrix1[row][col] ** 2)\n",
    "\n",
    "rms_values_cols = [(val ** 0.5) for val in rms_values_cols]\n",
    "\n",
    "\n",
    "## use the rms_values to normalize matrix\n",
    "for row in range(n_rows):\n",
    "    \n",
    "    for col in range(n_cols):\n",
    "\n",
    "        test_matrix1[row][col] /= rms_values_cols[col]\n"
   ]
  },
  {
   "cell_type": "code",
   "execution_count": 46,
   "metadata": {},
   "outputs": [],
   "source": [
    "# multiply the matrix with weight of each col\n",
    "for row in range(n_rows):\n",
    "\n",
    "    for col in range(n_cols):\n",
    "\n",
    "        test_matrix1[row][col] *= weights[col]"
   ]
  },
  {
   "cell_type": "code",
   "execution_count": 62,
   "metadata": {},
   "outputs": [],
   "source": [
    "############ find the ideal best value for each column\n",
    "ideal_best_values_for_cols = [0 for _ in range(n_cols)]\n",
    "\n",
    "def get_best_val_func(action):\n",
    "\n",
    "    func = max\n",
    "\n",
    "    if action == '-':\n",
    "\n",
    "        func = min \n",
    "\n",
    "    return func\n",
    "\n",
    "\n",
    "for col in range(n_cols):\n",
    "\n",
    "    # get the function producting best result\n",
    "    best_val_func = get_best_val_func(actions[col])\n",
    "\n",
    "    # apply the function to jth column\n",
    "    jth_col = [test_matrix1[row][col] for row in range(n_rows)]\n",
    "\n",
    "    result = best_val_func(jth_col)\n",
    "\n",
    "    # update_value_of ideal_values_for_cols[jth_col] = result\n",
    "    ideal_best_values_for_cols[col] = result\n"
   ]
  },
  {
   "cell_type": "code",
   "execution_count": 63,
   "metadata": {},
   "outputs": [],
   "source": [
    "####### Find the ideal worst value for each column\n",
    "\n",
    "ideal_worst_values_for_cols = [0 for _ in range(n_cols)]\n",
    "\n",
    "def get_worst_val_func(action):\n",
    "\n",
    "    func = max\n",
    "\n",
    "    if action == '+':\n",
    "\n",
    "        func = min \n",
    "\n",
    "    return func\n",
    "\n",
    "\n",
    "for col in range(n_cols):\n",
    "\n",
    "    # get the function producting best result\n",
    "    worst_val_func = get_worst_val_func(actions[col])\n",
    "\n",
    "    # apply the function to jth column\n",
    "    jth_col = [test_matrix1[row][col] for row in range(n_rows)]\n",
    "\n",
    "    result = worst_val_func(jth_col)\n",
    "\n",
    "    # update_value_of ideal_values_for_cols[jth_col] = result\n",
    "    ideal_worst_values_for_cols[col] = result\n"
   ]
  },
  {
   "cell_type": "code",
   "execution_count": 65,
   "metadata": {},
   "outputs": [
    {
     "output_type": "execute_result",
     "data": {
      "text/plain": [
       "[0.08856148855400953,\n",
       " 0.15075567228888181,\n",
       " 0.14285714285714285,\n",
       " 0.1494035761667992]"
      ]
     },
     "metadata": {},
     "execution_count": 65
    }
   ],
   "source": [
    "ideal_best_values_for_cols "
   ]
  },
  {
   "cell_type": "code",
   "execution_count": 66,
   "metadata": {},
   "outputs": [
    {
     "output_type": "execute_result",
     "data": {
      "text/plain": [
       "[0.08856148855400953,\n",
       " 0.15075567228888181,\n",
       " 0.14285714285714285,\n",
       " 0.1494035761667992]"
      ]
     },
     "metadata": {},
     "execution_count": 66
    }
   ],
   "source": [
    "ideal_best_values_for_cols"
   ]
  },
  {
   "cell_type": "code",
   "execution_count": 67,
   "metadata": {},
   "outputs": [
    {
     "output_type": "execute_result",
     "data": {
      "text/plain": [
       "[0.1328422328310143,\n",
       " 0.07537783614444091,\n",
       " 0.07142857142857142,\n",
       " 0.05976143046671968]"
      ]
     },
     "metadata": {},
     "execution_count": 67
    }
   ],
   "source": [
    "ideal_worst_values_for_cols"
   ]
  },
  {
   "cell_type": "code",
   "execution_count": 68,
   "metadata": {},
   "outputs": [],
   "source": [
    "## Find euclidean dist of each row from the ideal best value\n",
    "\n",
    "euclidean_dist_best = [0 for _ in range(n_rows)]\n",
    "\n",
    "for row in range(n_rows):\n",
    "\n",
    "    for col in range(n_cols):\n",
    "\n",
    "        euclidean_dist_best[row] += (test_matrix1[row][col] - ideal_best_values_for_cols[col]) ** 2\n",
    "\n",
    "\n",
    "euclidean_dist_best = [(val ** 0.5) for val in euclidean_dist_best]"
   ]
  },
  {
   "cell_type": "code",
   "execution_count": 69,
   "metadata": {},
   "outputs": [
    {
     "output_type": "execute_result",
     "data": {
      "text/plain": [
       "[0.08629904092358841,\n",
       " 0.11981355336343749,\n",
       " 0.053419485738657506,\n",
       " 0.08424867438514544,\n",
       " 0.11764387568904856]"
      ]
     },
     "metadata": {},
     "execution_count": 69
    }
   ],
   "source": [
    "euclidean_dist_best"
   ]
  },
  {
   "cell_type": "code",
   "execution_count": 70,
   "metadata": {},
   "outputs": [],
   "source": [
    "## Find euclidean dist of each row from the ideal worst value\n",
    "\n",
    "euclidean_dist_worst = [0 for _ in range(n_rows)]\n",
    "\n",
    "for row in range(n_rows):\n",
    "\n",
    "    for col in range(n_cols):\n",
    "\n",
    "        euclidean_dist_worst[row] += (test_matrix1[row][col] - ideal_worst_values_for_cols[col]) ** 2\n",
    "\n",
    "\n",
    "euclidean_dist_worst = [(val ** 0.5) for val in euclidean_dist_worst]"
   ]
  },
  {
   "cell_type": "code",
   "execution_count": 71,
   "metadata": {},
   "outputs": [
    {
     "output_type": "execute_result",
     "data": {
      "text/plain": [
       "[0.09900212405917001,\n",
       " 0.053419485738657506,\n",
       " 0.11981355336343749,\n",
       " 0.09682869292133708,\n",
       " 0.07877170807337568]"
      ]
     },
     "metadata": {},
     "execution_count": 71
    }
   ],
   "source": [
    "euclidean_dist_worst"
   ]
  },
  {
   "cell_type": "code",
   "execution_count": 84,
   "metadata": {},
   "outputs": [],
   "source": [
    "## last step --> calculate the performance score\n",
    "performance_score = [0 for _ in range(n_rows)]\n",
    "\n",
    "for row in range(n_rows):\n",
    "\n",
    "    performance_score[row] = (euclidean_dist_worst[row] / (euclidean_dist_best[row] + euclidean_dist_worst[row]))\n",
    "\n"
   ]
  },
  {
   "cell_type": "code",
   "execution_count": 85,
   "metadata": {},
   "outputs": [
    {
     "output_type": "execute_result",
     "data": {
      "text/plain": [
       "[0.5342768571821003,\n",
       " 0.3083677687324685,\n",
       " 0.6916322312675315,\n",
       " 0.534736584486838,\n",
       " 0.40104612151678615]"
      ]
     },
     "metadata": {},
     "execution_count": 85
    }
   ],
   "source": [
    "performance_score"
   ]
  },
  {
   "cell_type": "code",
   "execution_count": 86,
   "metadata": {},
   "outputs": [],
   "source": [
    "performance_score_copy = [(idx + 1, key) for idx, key in enumerate(performance_score)]"
   ]
  },
  {
   "cell_type": "code",
   "execution_count": 87,
   "metadata": {},
   "outputs": [
    {
     "output_type": "execute_result",
     "data": {
      "text/plain": [
       "[(1, 0.5342768571821003),\n",
       " (2, 0.3083677687324685),\n",
       " (3, 0.6916322312675315),\n",
       " (4, 0.534736584486838),\n",
       " (5, 0.40104612151678615)]"
      ]
     },
     "metadata": {},
     "execution_count": 87
    }
   ],
   "source": [
    "performance_score_copy"
   ]
  },
  {
   "cell_type": "code",
   "execution_count": 88,
   "metadata": {},
   "outputs": [],
   "source": [
    "performance_score_copy.sort(key = lambda x : x[1], reverse = True)"
   ]
  },
  {
   "cell_type": "code",
   "execution_count": 90,
   "metadata": {},
   "outputs": [
    {
     "output_type": "execute_result",
     "data": {
      "text/plain": [
       "[(3, 0.6916322312675315),\n",
       " (4, 0.534736584486838),\n",
       " (1, 0.5342768571821003),\n",
       " (5, 0.40104612151678615),\n",
       " (2, 0.3083677687324685)]"
      ]
     },
     "metadata": {},
     "execution_count": 90
    }
   ],
   "source": [
    "performance_score_copy"
   ]
  },
  {
   "cell_type": "code",
   "execution_count": null,
   "metadata": {},
   "outputs": [],
   "source": [
    "ranks = []\n",
    "\n",
    "score_to_rank = {}\n",
    "\n",
    "for rank, score in performance_score_copy:\n",
    "    score_to_rank[score] = rank\n"
   ]
  }
 ]
}