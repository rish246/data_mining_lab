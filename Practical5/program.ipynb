{
 "metadata": {
  "language_info": {
   "codemirror_mode": {
    "name": "ipython",
    "version": 3
   },
   "file_extension": ".py",
   "mimetype": "text/x-python",
   "name": "python",
   "nbconvert_exporter": "python",
   "pygments_lexer": "ipython3",
   "version": "3.8.5-final"
  },
  "orig_nbformat": 2,
  "kernelspec": {
   "name": "python38564bit5f47e5b54e4247e2affe1ce946898e57",
   "display_name": "Python 3.8.5 64-bit",
   "language": "python"
  }
 },
 "nbformat": 4,
 "nbformat_minor": 2,
 "cells": [
  {
   "cell_type": "code",
   "execution_count": 133,
   "metadata": {},
   "outputs": [],
   "source": [
    "test_matrix1 = [\n",
    "    [250, 16, 12, 5],\n",
    "    [200, 16, 8, 3],\n",
    "    [300, 32, 16, 4],\n",
    "    [275, 32, 8, 4],\n",
    "    [225, 16, 16, 2]\n",
    "]\n",
    "\n",
    "n_rows = 5\n",
    "n_cols = 4\n",
    "\n",
    "weights = [0.25, 0.25, 0.25, 0.25]\n",
    "actions = ['-', '+', '+', '+']"
   ]
  },
  {
   "cell_type": "code",
   "execution_count": 134,
   "metadata": {},
   "outputs": [
    {
     "output_type": "execute_result",
     "data": {
      "text/plain": [
       "[[250, 16, 12, 5],\n",
       " [200, 16, 8, 3],\n",
       " [300, 32, 16, 4],\n",
       " [275, 32, 8, 4],\n",
       " [225, 16, 16, 2]]"
      ]
     },
     "metadata": {},
     "execution_count": 134
    }
   ],
   "source": [
    "test_matrix1\n"
   ]
  },
  {
   "cell_type": "code",
   "execution_count": 135,
   "metadata": {},
   "outputs": [],
   "source": [
    "# Normalize matrix\n",
    "rms_values_cols = [0 for _ in range(n_cols)]\n",
    "\n",
    "for col in range(n_cols):\n",
    "\n",
    "    for row in range(n_rows):\n",
    "\n",
    "        rms_values_cols[col] += (test_matrix1[row][col] ** 2)\n",
    "\n",
    "rms_values_cols = [(val ** 0.5) for val in rms_values_cols]\n",
    "\n",
    "\n",
    "for row in range(n_rows):\n",
    "    \n",
    "    for col in range(n_cols):\n",
    "        ## use the rms_values to normalize matrix\n",
    "        test_matrix1[row][col] /= rms_values_cols[col]\n",
    "\n",
    "        # multiply the matrix with weight of each col\n",
    "        test_matrix1[row][col] *= weights[col]"
   ]
  },
  {
   "cell_type": "code",
   "execution_count": 46,
   "metadata": {},
   "outputs": [],
   "source": [
    "\n",
    "        "
   ]
  },
  {
   "cell_type": "code",
   "execution_count": 157,
   "metadata": {},
   "outputs": [],
   "source": [
    "############ find the ideal best value for each column\n",
    "ideal_best_values_for_cols = [0 for _ in range(n_cols)]\n",
    "\n",
    "def get_best_val_func(action):\n",
    "\n",
    "    return max if (action == '+') else min\n",
    "\n",
    "\n",
    "for col in range(n_cols):\n",
    "\n",
    "    # get the function producting best result\n",
    "    best_val_func = get_best_val_func(actions[col])\n",
    "\n",
    "    # apply the function to jth column\n",
    "    jth_col = [test_matrix1[row][col] for row in range(n_rows)]\n",
    "\n",
    "    result = best_val_func(jth_col)\n",
    "\n",
    "    # update_value_of ideal_values_for_cols[jth_col] = result\n",
    "    ideal_best_values_for_cols[col] = result\n"
   ]
  },
  {
   "cell_type": "code",
   "execution_count": 180,
   "metadata": {},
   "outputs": [],
   "source": [
    "####### Find the ideal worst value for each column\n",
    "\n",
    "ideal_worst_values_for_cols = [0 for _ in range(n_cols)]\n",
    "\n",
    "def get_worst_val_func(action):\n",
    "\n",
    "    return max if (action == '-') else min\n",
    "\n",
    "\n",
    "for col in range(n_cols):\n",
    "\n",
    "    # get the function producting best result\n",
    "    worst_val_func = get_worst_val_func(actions[col])\n",
    "\n",
    "    # apply the function to jth column\n",
    "    jth_col = [test_matrix1[row][col] for row in range(n_rows)]\n",
    "\n",
    "    result = worst_val_func(jth_col)\n",
    "\n",
    "    # update_value_of ideal_values_for_cols[jth_col] = result\n",
    "    ideal_worst_values_for_cols[col] = result\n"
   ]
  },
  {
   "cell_type": "code",
   "execution_count": 181,
   "metadata": {},
   "outputs": [
    {
     "output_type": "execute_result",
     "data": {
      "text/plain": [
       "[0.08856148855400953,\n",
       " 0.15075567228888181,\n",
       " 0.14285714285714285,\n",
       " 0.1494035761667992]"
      ]
     },
     "metadata": {},
     "execution_count": 181
    }
   ],
   "source": [
    "ideal_best_values_for_cols "
   ]
  },
  {
   "cell_type": "code",
   "execution_count": 182,
   "metadata": {},
   "outputs": [
    {
     "output_type": "execute_result",
     "data": {
      "text/plain": [
       "[0.08856148855400953,\n",
       " 0.15075567228888181,\n",
       " 0.14285714285714285,\n",
       " 0.1494035761667992]"
      ]
     },
     "metadata": {},
     "execution_count": 182
    }
   ],
   "source": [
    "ideal_best_values_for_cols"
   ]
  },
  {
   "cell_type": "code",
   "execution_count": 183,
   "metadata": {},
   "outputs": [
    {
     "output_type": "execute_result",
     "data": {
      "text/plain": [
       "[0.1328422328310143,\n",
       " 0.07537783614444091,\n",
       " 0.07142857142857142,\n",
       " 0.05976143046671968]"
      ]
     },
     "metadata": {},
     "execution_count": 183
    }
   ],
   "source": [
    "ideal_worst_values_for_cols"
   ]
  },
  {
   "cell_type": "code",
   "execution_count": 184,
   "metadata": {},
   "outputs": [],
   "source": [
    "## Find euclidean dist of each row from the ideal best value\n",
    "\n",
    "euclidean_dist_best = [0 for _ in range(n_rows)]\n",
    "\n",
    "euclidean_dist_worst = [0 for _ in range(n_rows)]\n",
    "\n",
    "for row in range(n_rows):\n",
    "\n",
    "    for col in range(n_cols):\n",
    "\n",
    "        euclidean_dist_best[row] += (test_matrix1[row][col] - ideal_best_values_for_cols[col]) ** 2\n",
    "\n",
    "        euclidean_dist_worst[row] += (test_matrix1[row][col] - ideal_worst_values_for_cols[col]) ** 2\n",
    "\n",
    "\n",
    "euclidean_dist_best = [(val ** 0.5) for val in euclidean_dist_best]\n",
    "\n",
    "euclidean_dist_worst = [(val ** 0.5) for val in euclidean_dist_worst]"
   ]
  },
  {
   "cell_type": "code",
   "execution_count": 185,
   "metadata": {},
   "outputs": [
    {
     "output_type": "execute_result",
     "data": {
      "text/plain": [
       "[0.08629904092358841,\n",
       " 0.11981355336343749,\n",
       " 0.053419485738657506,\n",
       " 0.08424867438514544,\n",
       " 0.11764387568904856]"
      ]
     },
     "metadata": {},
     "execution_count": 185
    }
   ],
   "source": [
    "euclidean_dist_best"
   ]
  },
  {
   "cell_type": "code",
   "execution_count": 186,
   "metadata": {},
   "outputs": [],
   "source": [
    "## Find euclidean dist of each row from the ideal worst value\n",
    "\n",
    "\n",
    "\n",
    "for row in range(n_rows):\n",
    "\n",
    "    for col in range(n_cols):\n",
    "\n",
    "        \n",
    "\n",
    "\n"
   ]
  },
  {
   "cell_type": "code",
   "execution_count": 187,
   "metadata": {},
   "outputs": [
    {
     "output_type": "execute_result",
     "data": {
      "text/plain": [
       "[0.09900212405917001,\n",
       " 0.053419485738657506,\n",
       " 0.11981355336343749,\n",
       " 0.09682869292133708,\n",
       " 0.07877170807337568]"
      ]
     },
     "metadata": {},
     "execution_count": 187
    }
   ],
   "source": [
    "euclidean_dist_worst"
   ]
  },
  {
   "cell_type": "code",
   "execution_count": 188,
   "metadata": {},
   "outputs": [],
   "source": [
    "## last step --> calculate the performance score\n",
    "performance_score = [0 for _ in range(n_rows)]\n",
    "\n",
    "for row in range(n_rows):\n",
    "\n",
    "    performance_score[row] = (euclidean_dist_worst[row] / (euclidean_dist_best[row] + euclidean_dist_worst[row]))\n",
    "\n"
   ]
  },
  {
   "cell_type": "code",
   "execution_count": 189,
   "metadata": {},
   "outputs": [
    {
     "output_type": "execute_result",
     "data": {
      "text/plain": [
       "[0.5342768571821003,\n",
       " 0.3083677687324685,\n",
       " 0.6916322312675315,\n",
       " 0.534736584486838,\n",
       " 0.40104612151678615]"
      ]
     },
     "metadata": {},
     "execution_count": 189
    }
   ],
   "source": [
    "performance_score"
   ]
  },
  {
   "cell_type": "code",
   "execution_count": 190,
   "metadata": {},
   "outputs": [],
   "source": [
    "performance_score_copy = performance_score.copy()"
   ]
  },
  {
   "cell_type": "code",
   "execution_count": 191,
   "metadata": {},
   "outputs": [
    {
     "output_type": "execute_result",
     "data": {
      "text/plain": [
       "[0.5342768571821003,\n",
       " 0.3083677687324685,\n",
       " 0.6916322312675315,\n",
       " 0.534736584486838,\n",
       " 0.40104612151678615]"
      ]
     },
     "metadata": {},
     "execution_count": 191
    }
   ],
   "source": [
    "performance_score_copy"
   ]
  },
  {
   "cell_type": "code",
   "execution_count": 192,
   "metadata": {},
   "outputs": [],
   "source": [
    "performance_score_copy.sort(reverse=True)"
   ]
  },
  {
   "cell_type": "code",
   "execution_count": 193,
   "metadata": {},
   "outputs": [
    {
     "output_type": "execute_result",
     "data": {
      "text/plain": [
       "[0.6916322312675315,\n",
       " 0.534736584486838,\n",
       " 0.5342768571821003,\n",
       " 0.40104612151678615,\n",
       " 0.3083677687324685]"
      ]
     },
     "metadata": {},
     "execution_count": 193
    }
   ],
   "source": [
    "performance_score_copy"
   ]
  },
  {
   "cell_type": "code",
   "execution_count": 194,
   "metadata": {},
   "outputs": [
    {
     "output_type": "execute_result",
     "data": {
      "text/plain": [
       "[3, 5, 1, 2, 4]"
      ]
     },
     "metadata": {},
     "execution_count": 194
    }
   ],
   "source": [
    "score_to_rank = {}\n",
    "\n",
    "for rank, score in enumerate(performance_score_copy):\n",
    "    score_to_rank[score] = rank + 1\n",
    "\n",
    "ranks = [score_to_rank[r] for r in performance_score]\n",
    "ranks\n",
    "\n"
   ]
  },
  {
   "cell_type": "code",
   "execution_count": 195,
   "metadata": {},
   "outputs": [
    {
     "output_type": "execute_result",
     "data": {
      "text/plain": [
       "[0.5342768571821003,\n",
       " 0.3083677687324685,\n",
       " 0.6916322312675315,\n",
       " 0.534736584486838,\n",
       " 0.40104612151678615]"
      ]
     },
     "metadata": {},
     "execution_count": 195
    }
   ],
   "source": [
    "performance_score"
   ]
  },
  {
   "cell_type": "code",
   "execution_count": 196,
   "metadata": {},
   "outputs": [
    {
     "output_type": "execute_result",
     "data": {
      "text/plain": [
       "[0.5342768571821003,\n",
       " 0.3083677687324685,\n",
       " 0.6916322312675315,\n",
       " 0.534736584486838,\n",
       " 0.40104612151678615]"
      ]
     },
     "metadata": {},
     "execution_count": 196
    }
   ],
   "source": [
    "performance_score"
   ]
  },
  {
   "cell_type": "code",
   "execution_count": 197,
   "metadata": {},
   "outputs": [
    {
     "output_type": "execute_result",
     "data": {
      "text/plain": [
       "[3, 5, 1, 2, 4]"
      ]
     },
     "metadata": {},
     "execution_count": 197
    }
   ],
   "source": [
    "ranks"
   ]
  },
  {
   "cell_type": "code",
   "execution_count": 198,
   "metadata": {},
   "outputs": [],
   "source": [
    "for row in range(n_rows):\n",
    "\n",
    "    test_matrix1[row] = test_matrix1[row] + [performance_score[row], ranks[row]]"
   ]
  },
  {
   "cell_type": "code",
   "execution_count": 199,
   "metadata": {},
   "outputs": [
    {
     "output_type": "stream",
     "name": "stdout",
     "text": [
      "[0.11070186069251191, 0.07537783614444091, 0.10714285714285714, 0.1494035761667992, 0.5342768571821003, 3, 0.5, 3, 0.5342768571821003, 3]\n[0.08856148855400953, 0.07537783614444091, 0.07142857142857142, 0.08964214570007951, 0.3083677687324685, 5, 0.5159985719044397, 1, 0.3083677687324685, 5]\n[0.1328422328310143, 0.15075567228888181, 0.14285714285714285, 0.11952286093343936, 0.6916322312675315, 1, 0.35871120219022673, 5, 0.6916322312675315, 1]\n[0.1217720467617631, 0.15075567228888181, 0.07142857142857142, 0.11952286093343936, 0.534736584486838, 2, 0.48142785571138474, 4, 0.534736584486838, 2]\n[0.09963167462326072, 0.07537783614444091, 0.14285714285714285, 0.05976143046671968, 0.40104612151678615, 4, 0.508554257885497, 2, 0.40104612151678615, 4]\n"
     ]
    }
   ],
   "source": [
    "for row in test_matrix1:\n",
    "    print(row)"
   ]
  },
  {
   "cell_type": "code",
   "execution_count": null,
   "metadata": {},
   "outputs": [],
   "source": []
  },
  {
   "cell_type": "code",
   "execution_count": null,
   "metadata": {},
   "outputs": [],
   "source": []
  },
  {
   "cell_type": "code",
   "execution_count": null,
   "metadata": {},
   "outputs": [],
   "source": []
  }
 ]
}