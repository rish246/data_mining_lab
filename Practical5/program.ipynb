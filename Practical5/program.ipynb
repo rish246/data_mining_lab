{
 "metadata": {
  "language_info": {
   "codemirror_mode": {
    "name": "ipython",
    "version": 3
   },
   "file_extension": ".py",
   "mimetype": "text/x-python",
   "name": "python",
   "nbconvert_exporter": "python",
   "pygments_lexer": "ipython3",
   "version": "3.8.5-final"
  },
  "orig_nbformat": 2,
  "kernelspec": {
   "name": "python38564bit5f47e5b54e4247e2affe1ce946898e57",
   "display_name": "Python 3.8.5 64-bit",
   "language": "python"
  }
 },
 "nbformat": 4,
 "nbformat_minor": 2,
 "cells": [
  {
   "cell_type": "code",
   "execution_count": 1,
   "metadata": {},
   "outputs": [],
   "source": [
    "test_matrix1 = [\n",
    "    [0.79, 0.62, 1.25, 60.89],\n",
    "    [0.66, 0.44, 2.89, 63.07], \n",
    "    [0.56, 0.31, 1.57, 62.87], \n",
    "    [0.82, 0.67, 2.68, 70.19], \n",
    "    [0.75, 0.56, 1.3, 80.39]]\n",
    "\n",
    "n_rows = 5\n",
    "n_cols = 4\n",
    "\n",
    "weights = [1, 1, 1, 2]\n",
    "actions = ['+', '+', '-', '+']"
   ]
  },
  {
   "cell_type": "code",
   "execution_count": 2,
   "metadata": {},
   "outputs": [
    {
     "output_type": "execute_result",
     "data": {
      "text/plain": [
       "[[0.79, 0.62, 1.25, 60.89],\n",
       " [0.66, 0.44, 2.89, 63.07],\n",
       " [0.56, 0.31, 1.57, 62.87],\n",
       " [0.82, 0.67, 2.68, 70.19],\n",
       " [0.75, 0.56, 1.3, 80.39]]"
      ]
     },
     "metadata": {},
     "execution_count": 2
    }
   ],
   "source": [
    "test_matrix1\n"
   ]
  },
  {
   "cell_type": "code",
   "execution_count": 10,
   "metadata": {},
   "outputs": [],
   "source": [
    "# Normalize matrix\n",
    "rms_values_cols = [0 for _ in range(n_cols)]\n",
    "\n",
    "for col in range(n_cols):\n",
    "\n",
    "    for row in range(n_rows):\n",
    "\n",
    "        rms_values_cols[col] += (test_matrix1[row][col] ** 2)\n",
    "\n",
    "rms_values_cols = [(val ** 0.5) for val in rms_values_cols]\n",
    "\n",
    "\n",
    "for row in range(n_rows):\n",
    "    \n",
    "    for col in range(n_cols):\n",
    "        ## use the rms_values to normalize matrix\n",
    "        test_matrix1[row][col] /= rms_values_cols[col]\n",
    "\n",
    "        # multiply the matrix with weight of each col\n",
    "        test_matrix1[row][col] *= weights[col]"
   ]
  },
  {
   "cell_type": "code",
   "execution_count": 11,
   "metadata": {},
   "outputs": [
    {
     "output_type": "execute_result",
     "data": {
      "text/plain": [
       "[0.9999999999999999, 1.0, 0.9999999999999999, 2.0]"
      ]
     },
     "metadata": {},
     "execution_count": 11
    }
   ],
   "source": [
    "rms_values_cols\n",
    "        "
   ]
  },
  {
   "cell_type": "code",
   "execution_count": 12,
   "metadata": {},
   "outputs": [],
   "source": [
    "ideal_best_values_for_cols = [0 for _ in range(n_cols)]\n",
    "\n",
    "ideal_worst_values_for_cols = [0 for _ in range(n_cols)]\n",
    "\n",
    "def get_best_val_func(action):\n",
    "\n",
    "    return max if (action == '+') else min\n",
    "\n",
    "def get_worst_val_func(action):\n",
    "\n",
    "    return max if (action == '-') else min\n",
    "\n",
    "\n",
    "for col in range(n_cols):\n",
    "\n",
    "    jth_col = [test_matrix1[row][col] for row in range(n_rows)]\n",
    "\n",
    "\n",
    "    # get the ideal best result of the column\n",
    "    best_val_func = get_best_val_func(actions[col])\n",
    "\n",
    "    result_best = best_val_func(jth_col)\n",
    "\n",
    "    ideal_best_values_for_cols[col] = result_best\n",
    "\n",
    "\n",
    "    # get the ideal worst result of the column\n",
    "    worst_val_func = get_worst_val_func(actions[col])\n",
    "\n",
    "    result_worst = worst_val_func(jth_col)\n",
    "\n",
    "    ideal_worst_values_for_cols[col] = result_worst\n"
   ]
  },
  {
   "cell_type": "code",
   "execution_count": 12,
   "metadata": {},
   "outputs": [],
   "source": [
    "\n"
   ]
  },
  {
   "cell_type": "code",
   "execution_count": 13,
   "metadata": {},
   "outputs": [
    {
     "output_type": "execute_result",
     "data": {
      "text/plain": [
       "[0.5077423714575438,\n",
       " 0.5589936463865603,\n",
       " 0.2711509505017784,\n",
       " 1.0595246395947622]"
      ]
     },
     "metadata": {},
     "execution_count": 13
    }
   ],
   "source": [
    "ideal_best_values_for_cols "
   ]
  },
  {
   "cell_type": "code",
   "execution_count": 14,
   "metadata": {},
   "outputs": [
    {
     "output_type": "execute_result",
     "data": {
      "text/plain": [
       "[0.5077423714575438,\n",
       " 0.5589936463865603,\n",
       " 0.2711509505017784,\n",
       " 1.0595246395947622]"
      ]
     },
     "metadata": {},
     "execution_count": 14
    }
   ],
   "source": [
    "ideal_best_values_for_cols"
   ]
  },
  {
   "cell_type": "code",
   "execution_count": 15,
   "metadata": {},
   "outputs": [
    {
     "output_type": "execute_result",
     "data": {
      "text/plain": [
       "[0.346750887824664,\n",
       " 0.25863885131318465,\n",
       " 0.6269009975601118,\n",
       " 0.8025184140431033]"
      ]
     },
     "metadata": {},
     "execution_count": 15
    }
   ],
   "source": [
    "ideal_worst_values_for_cols"
   ]
  },
  {
   "cell_type": "code",
   "execution_count": 16,
   "metadata": {},
   "outputs": [],
   "source": [
    "## Find euclidean dist of each row from the ideal best value\n",
    "\n",
    "euclidean_dist_best = [0 for _ in range(n_rows)]\n",
    "\n",
    "euclidean_dist_worst = [0 for _ in range(n_rows)]\n",
    "\n",
    "for row in range(n_rows):\n",
    "\n",
    "    for col in range(n_cols):\n",
    "\n",
    "        euclidean_dist_best[row] += (test_matrix1[row][col] - ideal_best_values_for_cols[col]) ** 2\n",
    "\n",
    "        euclidean_dist_worst[row] += (test_matrix1[row][col] - ideal_worst_values_for_cols[col]) ** 2\n",
    "\n",
    "\n",
    "euclidean_dist_best = [(val ** 0.5) for val in euclidean_dist_best]\n",
    "\n",
    "euclidean_dist_worst = [(val ** 0.5) for val in euclidean_dist_worst]"
   ]
  },
  {
   "cell_type": "code",
   "execution_count": 17,
   "metadata": {},
   "outputs": [
    {
     "output_type": "execute_result",
     "data": {
      "text/plain": [
       "[0.26103157950441636,\n",
       " 0.4746635447513408,\n",
       " 0.41745559999106785,\n",
       " 0.33807468422897397,\n",
       " 0.1020734610465854]"
      ]
     },
     "metadata": {},
     "execution_count": 17
    }
   ],
   "source": [
    "euclidean_dist_best"
   ]
  },
  {
   "cell_type": "code",
   "execution_count": 17,
   "metadata": {},
   "outputs": [],
   "source": [
    "\n",
    "\n"
   ]
  },
  {
   "cell_type": "code",
   "execution_count": 18,
   "metadata": {},
   "outputs": [
    {
     "output_type": "execute_result",
     "data": {
      "text/plain": [
       "[0.4623141122002049,\n",
       " 0.12815410770728514,\n",
       " 0.28752211309615994,\n",
       " 0.3650072786773756,\n",
       " 0.49229811865818346]"
      ]
     },
     "metadata": {},
     "execution_count": 18
    }
   ],
   "source": [
    "euclidean_dist_worst"
   ]
  },
  {
   "cell_type": "code",
   "execution_count": 19,
   "metadata": {},
   "outputs": [],
   "source": [
    "## last step --> calculate the performance score\n",
    "performance_score = [0 for _ in range(n_rows)]\n",
    "\n",
    "for row in range(n_rows):\n",
    "\n",
    "    performance_score[row] = (euclidean_dist_worst[row] / (euclidean_dist_best[row] + euclidean_dist_worst[row]))\n",
    "\n"
   ]
  },
  {
   "cell_type": "code",
   "execution_count": 20,
   "metadata": {},
   "outputs": [
    {
     "output_type": "execute_result",
     "data": {
      "text/plain": [
       "[0.6391330141342588,\n",
       " 0.21259182969277915,\n",
       " 0.4078456776130517,\n",
       " 0.5191532395007472,\n",
       " 0.8282665851935813]"
      ]
     },
     "metadata": {},
     "execution_count": 20
    }
   ],
   "source": [
    "performance_score"
   ]
  },
  {
   "cell_type": "code",
   "execution_count": 21,
   "metadata": {},
   "outputs": [],
   "source": [
    "performance_score_copy = performance_score.copy()"
   ]
  },
  {
   "cell_type": "code",
   "execution_count": 22,
   "metadata": {},
   "outputs": [
    {
     "output_type": "execute_result",
     "data": {
      "text/plain": [
       "[0.6391330141342588,\n",
       " 0.21259182969277915,\n",
       " 0.4078456776130517,\n",
       " 0.5191532395007472,\n",
       " 0.8282665851935813]"
      ]
     },
     "metadata": {},
     "execution_count": 22
    }
   ],
   "source": [
    "performance_score_copy"
   ]
  },
  {
   "cell_type": "code",
   "execution_count": 23,
   "metadata": {},
   "outputs": [],
   "source": [
    "performance_score_copy.sort(reverse=True)"
   ]
  },
  {
   "cell_type": "code",
   "execution_count": 24,
   "metadata": {},
   "outputs": [
    {
     "output_type": "execute_result",
     "data": {
      "text/plain": [
       "[0.8282665851935813,\n",
       " 0.6391330141342588,\n",
       " 0.5191532395007472,\n",
       " 0.4078456776130517,\n",
       " 0.21259182969277915]"
      ]
     },
     "metadata": {},
     "execution_count": 24
    }
   ],
   "source": [
    "performance_score_copy"
   ]
  },
  {
   "cell_type": "code",
   "execution_count": 25,
   "metadata": {},
   "outputs": [
    {
     "output_type": "execute_result",
     "data": {
      "text/plain": [
       "[2, 5, 4, 3, 1]"
      ]
     },
     "metadata": {},
     "execution_count": 25
    }
   ],
   "source": [
    "score_to_rank = {}\n",
    "\n",
    "for rank, score in enumerate(performance_score_copy):\n",
    "    score_to_rank[score] = rank + 1\n",
    "\n",
    "ranks = [score_to_rank[r] for r in performance_score]\n",
    "ranks\n",
    "\n"
   ]
  },
  {
   "cell_type": "code",
   "execution_count": 251,
   "metadata": {},
   "outputs": [
    {
     "output_type": "execute_result",
     "data": {
      "text/plain": [
       "[0.7855070766107981,\n",
       " 0.6849474626623018,\n",
       " 0.6737043954448315,\n",
       " 0.776728969238421,\n",
       " 0.9180436080148837]"
      ]
     },
     "metadata": {},
     "execution_count": 251
    }
   ],
   "source": [
    "performance_score"
   ]
  },
  {
   "cell_type": "code",
   "execution_count": 252,
   "metadata": {},
   "outputs": [
    {
     "output_type": "execute_result",
     "data": {
      "text/plain": [
       "[0.7855070766107981,\n",
       " 0.6849474626623018,\n",
       " 0.6737043954448315,\n",
       " 0.776728969238421,\n",
       " 0.9180436080148837]"
      ]
     },
     "metadata": {},
     "execution_count": 252
    }
   ],
   "source": [
    "performance_score"
   ]
  },
  {
   "cell_type": "code",
   "execution_count": 197,
   "metadata": {},
   "outputs": [
    {
     "output_type": "execute_result",
     "data": {
      "text/plain": [
       "[3, 5, 1, 2, 4]"
      ]
     },
     "metadata": {},
     "execution_count": 197
    }
   ],
   "source": [
    "ranks"
   ]
  },
  {
   "cell_type": "code",
   "execution_count": 198,
   "metadata": {},
   "outputs": [],
   "source": [
    "for row in range(n_rows):\n",
    "\n",
    "    test_matrix1[row] = test_matrix1[row] + [performance_score[row], ranks[row]]"
   ]
  },
  {
   "cell_type": "code",
   "execution_count": 199,
   "metadata": {},
   "outputs": [
    {
     "output_type": "stream",
     "name": "stdout",
     "text": [
      "[0.11070186069251191, 0.07537783614444091, 0.10714285714285714, 0.1494035761667992, 0.5342768571821003, 3, 0.5, 3, 0.5342768571821003, 3]\n[0.08856148855400953, 0.07537783614444091, 0.07142857142857142, 0.08964214570007951, 0.3083677687324685, 5, 0.5159985719044397, 1, 0.3083677687324685, 5]\n[0.1328422328310143, 0.15075567228888181, 0.14285714285714285, 0.11952286093343936, 0.6916322312675315, 1, 0.35871120219022673, 5, 0.6916322312675315, 1]\n[0.1217720467617631, 0.15075567228888181, 0.07142857142857142, 0.11952286093343936, 0.534736584486838, 2, 0.48142785571138474, 4, 0.534736584486838, 2]\n[0.09963167462326072, 0.07537783614444091, 0.14285714285714285, 0.05976143046671968, 0.40104612151678615, 4, 0.508554257885497, 2, 0.40104612151678615, 4]\n"
     ]
    }
   ],
   "source": [
    "for row in test_matrix1:\n",
    "    print(row)"
   ]
  },
  {
   "cell_type": "code",
   "execution_count": null,
   "metadata": {},
   "outputs": [],
   "source": []
  },
  {
   "cell_type": "code",
   "execution_count": null,
   "metadata": {},
   "outputs": [],
   "source": []
  },
  {
   "cell_type": "code",
   "execution_count": null,
   "metadata": {},
   "outputs": [],
   "source": []
  },
  {
   "cell_type": "code",
   "execution_count": null,
   "metadata": {},
   "outputs": [],
   "source": []
  },
  {
   "cell_type": "code",
   "execution_count": null,
   "metadata": {},
   "outputs": [],
   "source": []
  },
  {
   "cell_type": "code",
   "execution_count": null,
   "metadata": {},
   "outputs": [],
   "source": []
  },
  {
   "cell_type": "code",
   "execution_count": null,
   "metadata": {},
   "outputs": [],
   "source": []
  },
  {
   "cell_type": "code",
   "execution_count": 212,
   "metadata": {},
   "outputs": [],
   "source": [
    "input_file = \"/home/rishabh/Documents/course_work/8th_sem/lab_practical/data_mining_lab/Practical5/Lab Assignment 05/Input files for Assignment05/data.csv\""
   ]
  },
  {
   "cell_type": "code",
   "execution_count": 217,
   "metadata": {},
   "outputs": [],
   "source": [
    "input_file_data = open(input_file).read().strip('\\n').split('\\n')"
   ]
  },
  {
   "cell_type": "code",
   "execution_count": 219,
   "metadata": {},
   "outputs": [],
   "source": [
    "input_file_matrix = [row.split(',') for row in input_file_data]"
   ]
  },
  {
   "cell_type": "code",
   "execution_count": 220,
   "metadata": {},
   "outputs": [
    {
     "output_type": "execute_result",
     "data": {
      "text/plain": [
       "[['Model', 'Corr', 'Rseq', 'RMSE', 'Accuracy'],\n",
       " ['M1', '0.79', '0.62', '1.25', '60.89'],\n",
       " ['M2', '0.66', '0.44', '2.89', '63.07'],\n",
       " ['M3', '0.56', '0.31', '1.57', '62.87'],\n",
       " ['M4', '0.82', '0.67', '2.68', '70.19'],\n",
       " ['M5', '0.75', '0.56', '1.3', '80.39']]"
      ]
     },
     "metadata": {},
     "execution_count": 220
    }
   ],
   "source": [
    "input_file_matrix"
   ]
  },
  {
   "cell_type": "code",
   "execution_count": 232,
   "metadata": {},
   "outputs": [],
   "source": [
    "test_matrix = input_file_matrix[1 : ][1 : ]\n",
    "test_matrix = [row[1 : ] for row in test_matrix]\n",
    "for i in range(4):\n",
    "    for j in range(4):\n",
    "        test_matrix[i][j] = float(test_matrix[i][j])"
   ]
  },
  {
   "cell_type": "code",
   "execution_count": 233,
   "metadata": {},
   "outputs": [
    {
     "output_type": "stream",
     "name": "stdout",
     "text": [
      "[[0.66, 0.44, 2.89, 63.07], [0.56, 0.31, 1.57, 62.87], [0.82, 0.67, 2.68, 70.19], [0.75, 0.56, 1.3, 80.39]]\n"
     ]
    }
   ],
   "source": [
    "print(test_matrix)"
   ]
  },
  {
   "cell_type": "code",
   "execution_count": 27,
   "metadata": {},
   "outputs": [
    {
     "output_type": "stream",
     "name": "stdout",
     "text": [
      "[0.11070186069251191, 0.07537783614444091, 0.10714285714285714, 0.1494035761667992, 0.5342768571821003, 3]\n[0.08856148855400953, 0.07537783614444091, 0.07142857142857142, 0.08964214570007951, 0.3083677687324685, 5]\n[0.1328422328310143, 0.15075567228888181, 0.14285714285714285, 0.11952286093343936, 0.6916322312675315, 1]\n[0.1217720467617631, 0.15075567228888181, 0.07142857142857142, 0.11952286093343936, 0.534736584486838, 2]\n[0.09963167462326072, 0.07537783614444091, 0.14285714285714285, 0.05976143046671968, 0.40104612151678615, 4]\n"
     ]
    }
   ],
   "source": [
    " \n",
    "'''\n",
    "Command line implementation of the TOPSIS algorithm\n",
    "Author: Rishabh Katna\n",
    "'''\n",
    "def merge_matrix_and_scores(test_matrix1, n_rows, performance_score, ranks):\n",
    "    \n",
    "    for row in range(n_rows):\n",
    "    \n",
    "        test_matrix1[row] = test_matrix1[row] + [performance_score[row], ranks[row]]\n",
    "\n",
    "\n",
    "def get_ranks(performance_score):\n",
    "\n",
    "    performance_score_copy = performance_score.copy()\n",
    "\n",
    "    performance_score_copy.sort(reverse=True)\n",
    "\n",
    "    score_to_rank = {}\n",
    "\n",
    "    for rank, score in enumerate(performance_score_copy):\n",
    "        score_to_rank[score] = rank + 1\n",
    "\n",
    "    ranks = [score_to_rank[r] for r in performance_score]\n",
    "\n",
    "    return ranks\n",
    "\n",
    "def get_performance_score(euclidean_dist_best, euclidean_dist_worst, n_rows):\n",
    "    performance_score = [0 for _ in range(n_rows)]\n",
    "\n",
    "    for row in range(n_rows):\n",
    "\n",
    "        performance_score[row] = (euclidean_dist_worst[row] / (euclidean_dist_best[row] + euclidean_dist_worst[row]))\n",
    "\n",
    "    return performance_score\n",
    "\n",
    "\n",
    "def get_euclidean_dists(test_matrix1, ideal_best_values_for_cols, ideal_worst_values_for_cols, n_rows, n_cols):\n",
    "    euclidean_dist_best = [0 for _ in range(n_rows)]\n",
    "\n",
    "    euclidean_dist_worst = [0 for _ in range(n_rows)]\n",
    "\n",
    "    for row in range(n_rows):\n",
    "\n",
    "        for col in range(n_cols):\n",
    "\n",
    "            euclidean_dist_best[row] += (test_matrix1[row][col] - ideal_best_values_for_cols[col]) ** 2\n",
    "\n",
    "            euclidean_dist_worst[row] += (test_matrix1[row][col] - ideal_worst_values_for_cols[col]) ** 2\n",
    "\n",
    "\n",
    "    euclidean_dist_best = [(val ** 0.5) for val in euclidean_dist_best]\n",
    "\n",
    "    euclidean_dist_worst = [(val ** 0.5) for val in euclidean_dist_worst]\n",
    "\n",
    "    return euclidean_dist_best, euclidean_dist_worst\n",
    "\n",
    "\n",
    "\n",
    "def get_ideal_values(test_matrix1, actions, n_rows, n_cols):\n",
    "    ideal_best_values_for_cols = [0 for _ in range(n_cols)]\n",
    "\n",
    "    ideal_worst_values_for_cols = [0 for _ in range(n_cols)]\n",
    "\n",
    "    def get_best_val_func(action):\n",
    "\n",
    "        return max if (action == '+') else min\n",
    "\n",
    "    def get_worst_val_func(action):\n",
    "\n",
    "        return max if (action == '-') else min\n",
    "\n",
    "\n",
    "    for col in range(n_cols):\n",
    "\n",
    "        jth_col = [test_matrix1[row][col] for row in range(n_rows)]\n",
    "\n",
    "\n",
    "        # get the ideal best result of the column\n",
    "        best_val_func = get_best_val_func(actions[col])\n",
    "\n",
    "        result_best = best_val_func(jth_col)\n",
    "\n",
    "        ideal_best_values_for_cols[col] = result_best\n",
    "\n",
    "\n",
    "        # get the ideal worst result of the column\n",
    "        worst_val_func = get_worst_val_func(actions[col])\n",
    "\n",
    "        result_worst = worst_val_func(jth_col)\n",
    "\n",
    "        ideal_worst_values_for_cols[col] = result_worst\n",
    "\n",
    "    \n",
    "    return ideal_best_values_for_cols, ideal_worst_values_for_cols\n",
    "\n",
    "\n",
    "def normalize_matrix(test_matrix1, n_rows, n_cols, rms_values_cols, weights):\n",
    "    for row in range(n_rows):\n",
    "        \n",
    "        for col in range(n_cols):\n",
    "            ## use the rms_values to normalize matrix\n",
    "            test_matrix1[row][col] /= rms_values_cols[col]\n",
    "\n",
    "            # multiply the matrix with weight of each col\n",
    "            test_matrix1[row][col] *= weights[col]\n",
    "\n",
    "\n",
    "def get_rms_for_cols(test_matrix1, n_rows, n_cols):\n",
    "    \n",
    "    rms_values_cols = [0 for _ in range(n_cols)]\n",
    "    \n",
    "    for col in range(n_cols):\n",
    "    \n",
    "        for row in range(n_rows):\n",
    "    \n",
    "            rms_values_cols[col] += (test_matrix1[row][col] ** 2)\n",
    "    \n",
    "    rms_values_cols = [(val ** 0.5) for val in rms_values_cols]\n",
    "    \n",
    "    return rms_values_cols\n",
    "\n",
    "def apply_TOPSIS(test_matrix1, weights, actions):\n",
    "    ## calculate n_rows and n_cols here #######\n",
    "    n_rows = len(test_matrix1)\n",
    "\n",
    "    n_cols = len(test_matrix1[0])\n",
    "\n",
    "    rms_values_cols = get_rms_for_cols(test_matrix1, n_rows, n_cols)\n",
    "\n",
    "    ########################### Normalize the test matrix #############\n",
    "    normalize_matrix(test_matrix1, n_rows, n_cols, rms_values_cols, weights)\n",
    "    \n",
    "    # get ideal best and worst values for all columns\n",
    "    ideal_best_values_for_cols, ideal_worst_values_for_cols = get_ideal_values(test_matrix1, actions, n_rows, n_cols)\n",
    "\n",
    "    # get euclidean distances of each row from ideal best cases and ideal worst values\n",
    "    euclidean_dist_best, euclidean_dist_worst = get_euclidean_dists(test_matrix1, ideal_best_values_for_cols, ideal_worst_values_for_cols, n_rows, n_cols)\n",
    "\n",
    "\n",
    "    performance_score = get_performance_score(euclidean_dist_best, euclidean_dist_worst, n_rows)\n",
    "\n",
    "    ########## Find ranks ###################################3\n",
    "    ranks = get_ranks(performance_score)\n",
    "\n",
    "    merge_matrix_and_scores(test_matrix1, n_rows, performance_score, ranks)\n",
    "\n",
    "\n",
    "def main():\n",
    "\n",
    "    test_matrix = [\n",
    "        [250, 16, 12, 5],\n",
    "        [200, 16, 8, 3],\n",
    "        [300, 32, 16, 4],\n",
    "        [275, 32, 8, 4],\n",
    "        [225, 16, 16, 2]\n",
    "    ]\n",
    "\n",
    "    weights_1 = [0.25, 0.25, 0.25, 0.25]\n",
    "    impacts = ['-', '+', '+','+']\n",
    "\n",
    "    apply_TOPSIS(test_matrix, weights_1, impacts)\n",
    "\n",
    "    for row in test_matrix:\n",
    "        print(row)\n",
    "\n",
    "\n",
    "\n",
    "\n",
    "\n",
    "if __name__ == \"__main__\":\n",
    "    main()\n",
    "\n",
    "\n",
    "\n",
    "\n",
    "\n",
    "\n",
    "\n",
    "\n",
    "\n",
    "\n",
    "\n",
    "\n",
    "\n",
    "\n",
    "\n",
    "\n",
    "\n",
    "\n",
    "\n",
    "\n",
    "\n",
    "\n",
    "\n",
    "\n",
    "\n"
   ]
  },
  {
   "cell_type": "code",
   "execution_count": 30,
   "metadata": {},
   "outputs": [
    {
     "output_type": "stream",
     "name": "stdout",
     "text": [
      "[0.5342768571821003, 0.3083677687324685, 0.6916322312675315, 0.534736584486838, 0.40104612151678615] [3, 5, 1, 2, 4]\n"
     ]
    }
   ],
   "source": [
    "test_matrix = [\n",
    "    [250, 16, 12, 5],\n",
    "    [200, 16, 8, 3],\n",
    "    [300, 32, 16, 4],\n",
    "    [275, 32, 8, 4],\n",
    "    [225, 16, 16, 2]\n",
    "]\n",
    "\n",
    "weights_1 = [0.25, 0.25, 0.25, 0.25]\n",
    "impacts = ['-', '+', '+','+']\n",
    "\n",
    "performance_score, ranks = apply_TOPSIS(test_matrix, weights_1, impacts)\n",
    "\n",
    "print(performance_score, ranks)\n"
   ]
  },
  {
   "cell_type": "code",
   "execution_count": null,
   "metadata": {},
   "outputs": [],
   "source": []
  }
 ]
}